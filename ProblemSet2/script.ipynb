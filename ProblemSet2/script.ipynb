{
 "metadata": {
  "language_info": {
   "codemirror_mode": {
    "name": "ipython",
    "version": 3
   },
   "file_extension": ".py",
   "mimetype": "text/x-python",
   "name": "python",
   "nbconvert_exporter": "python",
   "pygments_lexer": "ipython3",
   "version": "3.7.6-final"
  },
  "orig_nbformat": 2,
  "kernelspec": {
   "name": "python3",
   "display_name": "Python 3.7.6 64-bit",
   "metadata": {
    "interpreter": {
     "hash": "0600588c3b5f4418cbe7b5ebc6825b479f3bc010269d8b60d75058cdd010adfe"
    }
   }
  }
 },
 "nbformat": 4,
 "nbformat_minor": 2,
 "cells": [
  {
   "cell_type": "code",
   "execution_count": null,
   "metadata": {},
   "outputs": [],
   "source": [
    "import numpy as np"
   ]
  },
  {
   "source": [
    "## Exercise 1: Simple Linear Equation Example\n",
    "\n",
    "Consider a simple market equilibrium model where the demand and supply function are respectively given by\n",
    "\n",
    "$$\\text{D}\\colon\\quad p=a-bq$$\n",
    "\n",
    "$$\\text{S}\\colon\\quad p=c+dq$$\n",
    "\n",
    "where $p$ is the price, $q$ is the quantity and $a,b,c,d$ are parameters.\n"
   ],
   "cell_type": "markdown",
   "metadata": {}
  },
  {
   "cell_type": "code",
   "execution_count": 5,
   "metadata": {},
   "outputs": [],
   "source": [
    "def D(q, a, b):\n",
    "    \"\"\"\n",
    "    Linear quantity demand function as a function of quantity.\n",
    "\n",
    "    Arguments:\n",
    "    q - quanity input\n",
    "    a - intercept\n",
    "    b - slope\n",
    "\n",
    "    Returns:\n",
    "    p - price output\n",
    "    \"\"\"\n",
    "    p = a-b*q\n",
    "\n",
    "    return p\n",
    "\n",
    "def invD(p, a, b):\n",
    "    \"\"\"\n",
    "    Inverse linear quantity demand function as a function of price.\n",
    "\n",
    "    Arguments:\n",
    "    p - price input\n",
    "    a - intercept\n",
    "    b - slope\n",
    "\n",
    "    Returns:\n",
    "    q - quantity output\n",
    "    \"\"\"\n",
    "\n",
    "    q = (p-a)/b\n",
    "\n",
    "    return q\n",
    "\n",
    "def S(q, c, d):\n",
    "    \"\"\"\n",
    "    Linear quantity supply function as a function of quantity.\n",
    "\n",
    "    Arguments:\n",
    "    q - quantity input\n",
    "    c - intercept\n",
    "    d - slope\n",
    "\n",
    "    Returns:\n",
    "    p - price output\n",
    "    \"\"\"\n",
    "    p = c+d*q\n",
    "\n",
    "    return p\n",
    "\n",
    "def invS(p, c, d):\n",
    "    \"\"\"\n",
    "    Inverse linear quantity supply function as a function of price.\n",
    "\n",
    "    Arguments:\n",
    "    p - price input\n",
    "    c - intercept\n",
    "    d - slope\n",
    "\n",
    "    Returns:\n",
    "    q - quantity output\n",
    "    \"\"\"\n",
    "    q = (p-c)/d\n",
    "\n",
    "    return q"
   ]
  },
  {
   "source": [
    "### 1. Show that market equilibirum is characterized by the relationship\n",
    "\n",
    "$$bq+dq-(a-c)=0$$"
   ],
   "cell_type": "markdown",
   "metadata": {}
  },
  {
   "source": [
    "First off, define the excess supply function:\n",
    "\n",
    "$$\\text{Z}(q)\\equiv\\text{S}(q)-\\text{D}(q)=c+dq-a-bq$$\n",
    "\n",
    "The market equilibrium is characterized by zero excess quantity:\n",
    "\n",
    "$$\\text{Z}(q)=0\\iff bq+dq-(a-c)=0$$"
   ],
   "cell_type": "markdown",
   "metadata": {}
  },
  {
   "source": [
    "### 2. Analytically compute the equilibrium allocation and corresponding price, $(q^*,p^*)$."
   ],
   "cell_type": "markdown",
   "metadata": {}
  },
  {
   "source": [
    "We may derive the optimal market quantity using $\\text{Z}(q)=0$:\n",
    "\n",
    "$$\\text{Z}(q)=0\\iff q^*=\\frac{a-c}{b+d}$$\n",
    "\n",
    "Hence, the optimal price $p^*$ is then given by:\n",
    "\n",
    "$$p^*\\colon\\quad D(p^*)=S(p^*)\\iff a-bq^*=c+dq^*$$\n",
    "\n",
    "The optimum allocation of the economy is the pair $(q^*,p^*)$."
   ],
   "cell_type": "markdown",
   "metadata": {}
  },
  {
   "source": [
    "### 3. Next, transform the system of equations $\\text{D}$ and $\\text{S}$ into a standard linear equation system of the form $\\mathbf A\\mathbf x=\\mathbf y$ for coefficient matrix $\\mathbf A$, variable vector $\\mathbf x=[p,q]^\\intercal$ and data vector $\\mathbf y$. Analytically solve this system of equations by an LU decomposition applying the steps from the slides of the lecture."
   ],
   "cell_type": "markdown",
   "metadata": {}
  },
  {
   "source": [
    "Define coefficient matrix $\\mathbf A$ as\n",
    "\n",
    "$$\\mathbf A=\\begin{bmatrix}a&-b\\\\c&d\\end{bmatrix}$$\n",
    "\n",
    "Define the variable vector $\\mathbf x$ and the data vector $y$ as\n",
    "\n",
    "$$\\mathbf x=[1,q]^\\intercal$$\n",
    "\n",
    "$$y=[p, p]^\\intercal$$\n",
    "\n",
    "Hence, the economy is defined as\n",
    "\n",
    "$$\\mathbf A\\mathbf x=y\\iff \\begin{bmatrix}a&-b\\\\c&d\\end{bmatrix}\\begin{bmatrix}1\\\\q\\end{bmatrix}=\\begin{bmatrix}p\\\\p\\end{bmatrix}$$"
   ],
   "cell_type": "markdown",
   "metadata": {}
  },
  {
   "source": [
    "Let $\\mathbf I$ be identity matrix of shape $(2,2)$. Using Gaussian elimination algorithm we nullify the entries below the main diagonal of matrix $\\mathbf A$ and let $\\mathbf I_{22}=-\\mathbf A_{22}$$:\n",
    "\n",
    "$$\\mathbf A=\\begin{bmatrix}a&-b\\\\c&d\\end{bmatrix}\\stackrel{\\mathbf A_{2}-\\mathbf A_{1}\\frac{\\mathbf A_{21}}{\\mathbf A_{11}}}{\\to}\\begin{bmatrix}a&-b\\\\0&\\tilde{d}\\end{bmatrix}=\\mathbf A^1$$\n",
    "\n",
    "$$\\mathbf I=\\begin{bmatrix}1&0\\\\0&1\\end{bmatrix}\\stackrel{\\mathbf I_{22}=\\frac{\\mathbf A_{21}}{\\mathbf A_{11}}}{\\to}\\begin{bmatrix}1&0\\\\\\frac{c}{a}&1\\end{bmatrix}=\\mathbf I^1$$\n",
    "\n",
    "where $\\tilde{d}=d+b\\frac{c}{a}$. Hence, $\\mathbf A^1\\equiv\\mathbf U$ is the upper triangular matrix and $\\mathbf I^1\\equiv\\mathbf L$ is the lower triangular matrix satisfying\n",
    "\n",
    "$$\\mathbf L\\mathbf U=\\mathbf A$$\n",
    "\n",
    "Using forward substitution it may be shown that $\\mathbf h$ in the equation\n",
    "\n",
    "$$\\mathbf L\\mathbf h=\\mathbf y$$\n",
    "\n",
    "equals $\\mathbf h=\\biggr[p, (1-\\frac{c}{a})p\\biggr]^\\intercal$\n",
    "\n",
    "Using backward substitution it may be shown that $\\mathbf x$ in the equation\n",
    "\n",
    "$$\\mathbf U\\mathbf x=\\mathbf h$$\n",
    "\n",
    "equals $\\mathbf x=\\biggr[1,\\frac{a-c}{d+b}\\biggr]^\\intercal$. While solving the equation above we find that $p^*=\\frac{ad+bc}{d+b}$.\n",
    "\n"
   ],
   "cell_type": "markdown",
   "metadata": {}
  },
  {
   "source": [
    "### 4. Now parametrize the model with $a=3,b=0.5,c=d=1$. Compute $(q^*,p^*)$."
   ],
   "cell_type": "markdown",
   "metadata": {}
  },
  {
   "source": [
    "We now have the closed form of the optimal allocation $(q^*,p^*):\n",
    "\n",
    "$$(q^*,p^*)=\\biggr(\\frac{a-c}{d+b},\\frac{ad+bc}{d+b}\\biggr)=\\biggr(\\frac{4}{3},\\frac{7}{3}\\biggr)$$"
   ],
   "cell_type": "markdown",
   "metadata": {}
  },
  {
   "source": [
    "### 5. Implement a Gauss-Seidel fixed-point iteration for solving the system of equations. Initialize the iteration with $(q,p)=(0.1,0.1). For which order of the equation system does the system converge? Illustrate convergence and non-convergence graphically."
   ],
   "cell_type": "markdown",
   "metadata": {}
  },
  {
   "cell_type": "code",
   "execution_count": null,
   "metadata": {},
   "outputs": [],
   "source": [
    "def GaussSeidel(p0, q0, a, b, c, d, order, numIter = 1000, tol = 1/1000):\n",
    "    \"\"\"\n",
    "    Gauss-Seidel fixed-point iteration algorithm for solving the system of equations.\n",
    "\n",
    "    Arguments:\n",
    "    p0 - initial price input\n",
    "    q0 - initial quantity input\n",
    "    a - demand function intercept\n",
    "    b - demand function slope\n",
    "    c - supply function intercept\n",
    "    d - supply function slope\n",
    "    order - order of solving the system. Takes on only 'direct' and 'indirect' values\n",
    "    numIter - number of iterations. Default is 1000\n",
    "    tol - convergence tolerance. Default is 1/1000\n",
    "\n",
    "    Returns:\n",
    "    c - convergence binary True/False\n",
    "    z - quantity-price output vector of form (q*, p*)\n",
    "    \"\"\"\n",
    "    if order == 'direct':\n",
    "        p1 = D(q0, a, b)\n",
    "        q1 = invS(p0, c, d)\n",
    "    elif order == 'indirect':\n",
    "        q1 = invD(p0, a, b)\n",
    "        p1 = S(q0, c, d)\n",
    "    else:\n",
    "        return \"parameter 'order' must be either 'direct' or 'indirect'\"\n",
    "#TODO: FINISH THIS SHIT\n",
    "\n"
   ]
  }
 ]
}