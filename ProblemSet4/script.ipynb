{
 "metadata": {
  "language_info": {
   "codemirror_mode": {
    "name": "ipython",
    "version": 3
   },
   "file_extension": ".py",
   "mimetype": "text/x-python",
   "name": "python",
   "nbconvert_exporter": "python",
   "pygments_lexer": "ipython3",
   "version": "3.7.6-final"
  },
  "orig_nbformat": 2,
  "kernelspec": {
   "name": "python3",
   "display_name": "Python 3.7.6 64-bit",
   "metadata": {
    "interpreter": {
     "hash": "0600588c3b5f4418cbe7b5ebc6825b479f3bc010269d8b60d75058cdd010adfe"
    }
   }
  }
 },
 "nbformat": 4,
 "nbformat_minor": 2,
 "cells": [
  {
   "source": [
    "### EGOR ZAITSEV - 07 452 541\n",
    "\n",
    "### XIAOXU YAO - 07 498 897"
   ],
   "cell_type": "markdown",
   "metadata": {}
  },
  {
   "source": [
    "### Exercise 1: Simple Functions\n",
    "\n",
    "#### Implement the Newton algorithm for any function $f\\colon\\mathbb R\\to\\mathbb R$"
   ],
   "cell_type": "markdown",
   "metadata": {}
  },
  {
   "cell_type": "code",
   "execution_count": 1,
   "metadata": {},
   "outputs": [],
   "source": [
    "import time\n",
    "\n",
    "import numpy as np\n",
    "import pandas as pd\n",
    "import matplotlib.pyplot as plt\n",
    "\n",
    "from scipy.optimize import fsolve, least_squares"
   ]
  },
  {
   "cell_type": "code",
   "execution_count": 417,
   "metadata": {},
   "outputs": [],
   "source": [
    "def newton(x0, f, df, ddf, epsilon = 10e-5, delta = 10e-5, maxiter = 1000):\n",
    "    \"\"\"\n",
    "    Newton algorithm to find local extrema of a function\n",
    "\n",
    "    Arguments:\n",
    "    x0 - initial guess\n",
    "    f - function in question\n",
    "    df - corresponding first derivative\n",
    "    ddf - corresponding second derivative\n",
    "\n",
    "    Returns:\n",
    "    (if successful):\n",
    "        [z, fz, dfz, ddfz] - array of information on z where z is a local extremum\n",
    "    (if not successful):\n",
    "        [x1, fx1, dfx1, ddfx1] - array of information on the current iterate\n",
    "    \"\"\"\n",
    "\n",
    "    for iter in range(maxiter):\n",
    "        fx0 = f(x0)\n",
    "        dfx0 = df(x0)\n",
    "        ddfx0 = ddf(x0)\n",
    "        \n",
    "        x1 = x0 - dfx0/ddfx0 # ITERATION RULE\n",
    "        fx1 = f(x1)\n",
    "\n",
    "        d = np.linalg.norm(x1)\n",
    "        D = np.linalg.norm(x1-x0)\n",
    "\n",
    "        if D <= epsilon*(1 + d) and np.abs(df(x1)) <= delta*(1 + np.abs(f(x1))):\n",
    "            z = x1\n",
    "            return [z, f(z), df(z), ddf(z)]\n",
    "        else:\n",
    "            x0 = x1\n",
    "    \n",
    "    print('NUMBER OF ITERATIONS REACHED')\n",
    "    return [x1, f(x1), df(x1), ddf(x1)]\n"
   ]
  },
  {
   "source": [
    "#### Calculate the extrema of the two functions:\n",
    "\n",
    "$$f_1(x)=2x^3-x^2-3x+2$$\n",
    "\n",
    "$$f_2(x)=-x\\exp(-x)$$"
   ],
   "cell_type": "markdown",
   "metadata": {}
  },
  {
   "cell_type": "code",
   "execution_count": 418,
   "metadata": {},
   "outputs": [],
   "source": [
    "def f1(x):\n",
    "    return 2*x**3 - x**2 - 3*x + 2\n",
    "\n",
    "def df1(x):\n",
    "    return 6*x**2-2*x-3\n",
    "\n",
    "def ddf1(x):\n",
    "    return 12*x-2\n",
    "\n",
    "def f2(x):\n",
    "    return (-x)*np.exp(-x)\n",
    "\n",
    "def df2(x):\n",
    "    return np.exp(-x)*(x - 1)\n",
    "\n",
    "def ddf2(x):\n",
    "    return np.exp(-x)*(2 - x)"
   ]
  },
  {
   "cell_type": "code",
   "execution_count": 419,
   "metadata": {},
   "outputs": [
    {
     "output_type": "stream",
     "name": "stdout",
     "text": [
      "\n\nFUNCTION 1 LOCAL MAXIMUM: (-0.56, 3.02)\nFUNCTION 1 LOCAL MINIMUM: (0.89, -0.05)\nFUNCTION 2 LOCAL MINIMUM: (1.00, -0.37)\n"
     ]
    }
   ],
   "source": [
    "z1, f1z1, df1z1, ddf1z1 = newton(-2, f1, df1, ddf1) # LOCAL MAXIMUM\n",
    "z2, f1z2, df1z2, ddf1z2 = newton(2, f1, df1, ddf1) # LOCAL MINIMUM\n",
    "z, f2z, df2z, ddf2z = newton(-2, f2, df2, ddf2) # LOCAL MINIMUM\n",
    "\n",
    "print('\\n\\nFUNCTION 1 LOCAL MAXIMUM: ({:.2f}, {:.2f})'.format(z1, f1z1))\n",
    "print('FUNCTION 1 LOCAL MINIMUM: ({:.2f}, {:.2f})'.format(z2, f1z2))\n",
    "print('FUNCTION 2 LOCAL MINIMUM: ({:.2f}, {:.2f})'.format(z, f2z))"
   ]
  },
  {
   "source": [
    "#### Plot the functions and show the critical points on the graphs"
   ],
   "cell_type": "markdown",
   "metadata": {}
  },
  {
   "cell_type": "code",
   "execution_count": 420,
   "metadata": {},
   "outputs": [
    {
     "output_type": "execute_result",
     "data": {
      "text/plain": [
       "(-1.0, 1.0)"
      ]
     },
     "metadata": {},
     "execution_count": 420
    },
    {
     "output_type": "display_data",
     "data": {
      "text/plain": "<Figure size 576x288 with 2 Axes>",
      "image/svg+xml": "<?xml version=\"1.0\" encoding=\"utf-8\" standalone=\"no\"?>\r\n<!DOCTYPE svg PUBLIC \"-//W3C//DTD SVG 1.1//EN\"\r\n  \"http://www.w3.org/Graphics/SVG/1.1/DTD/svg11.dtd\">\r\n<!-- Created with matplotlib (https://matplotlib.org/) -->\r\n<svg height=\"305.274375pt\" version=\"1.1\" viewBox=\"0 0 573.407812 305.274375\" width=\"573.407812pt\" xmlns=\"http://www.w3.org/2000/svg\" xmlns:xlink=\"http://www.w3.org/1999/xlink\">\r\n <metadata>\r\n  <rdf:RDF xmlns:cc=\"http://creativecommons.org/ns#\" xmlns:dc=\"http://purl.org/dc/elements/1.1/\" xmlns:rdf=\"http://www.w3.org/1999/02/22-rdf-syntax-ns#\">\r\n   <cc:Work>\r\n    <dc:type rdf:resource=\"http://purl.org/dc/dcmitype/StillImage\"/>\r\n    <dc:date>2021-02-09T20:26:17.493506</dc:date>\r\n    <dc:format>image/svg+xml</dc:format>\r\n    <dc:creator>\r\n     <cc:Agent>\r\n      <dc:title>Matplotlib v3.3.3, https://matplotlib.org/</dc:title>\r\n     </cc:Agent>\r\n    </dc:creator>\r\n   </cc:Work>\r\n  </rdf:RDF>\r\n </metadata>\r\n <defs>\r\n  <style type=\"text/css\">*{stroke-linecap:butt;stroke-linejoin:round;}</style>\r\n </defs>\r\n <g id=\"figure_1\">\r\n  <g id=\"patch_1\">\r\n   <path d=\"M 0 305.274375 \r\nL 573.407812 305.274375 \r\nL 573.407812 0 \r\nL 0 0 \r\nz\r\n\"/>\r\n  </g>\r\n  <g id=\"axes_1\">\r\n   <g id=\"patch_2\">\r\n    <path d=\"M 42.620313 267.718125 \r\nL 283.607813 267.718125 \r\nL 283.607813 22.318125 \r\nL 42.620313 22.318125 \r\nz\r\n\"/>\r\n   </g>\r\n   <g id=\"matplotlib.axis_1\">\r\n    <g id=\"xtick_1\">\r\n     <g id=\"line2d_1\">\r\n      <defs>\r\n       <path d=\"M 0 0 \r\nL 0 3.5 \r\n\" id=\"m9270cdb0dd\" style=\"stroke:#ffffff;stroke-width:0.8;\"/>\r\n      </defs>\r\n      <g>\r\n       <use style=\"fill:#ffffff;stroke:#ffffff;stroke-width:0.8;\" x=\"75.482244\" xlink:href=\"#m9270cdb0dd\" y=\"267.718125\"/>\r\n      </g>\r\n     </g>\r\n     <g id=\"text_1\">\r\n      <!-- −4 -->\r\n      <g style=\"fill:#ffffff;\" transform=\"translate(68.111151 282.316563)scale(0.1 -0.1)\">\r\n       <defs>\r\n        <path d=\"M 10.59375 35.5 \r\nL 73.1875 35.5 \r\nL 73.1875 27.203125 \r\nL 10.59375 27.203125 \r\nz\r\n\" id=\"DejaVuSans-8722\"/>\r\n        <path d=\"M 37.796875 64.3125 \r\nL 12.890625 25.390625 \r\nL 37.796875 25.390625 \r\nz\r\nM 35.203125 72.90625 \r\nL 47.609375 72.90625 \r\nL 47.609375 25.390625 \r\nL 58.015625 25.390625 \r\nL 58.015625 17.1875 \r\nL 47.609375 17.1875 \r\nL 47.609375 0 \r\nL 37.796875 0 \r\nL 37.796875 17.1875 \r\nL 4.890625 17.1875 \r\nL 4.890625 26.703125 \r\nz\r\n\" id=\"DejaVuSans-52\"/>\r\n       </defs>\r\n       <use xlink:href=\"#DejaVuSans-8722\"/>\r\n       <use x=\"83.789062\" xlink:href=\"#DejaVuSans-52\"/>\r\n      </g>\r\n     </g>\r\n    </g>\r\n    <g id=\"xtick_2\">\r\n     <g id=\"line2d_2\">\r\n      <g>\r\n       <use style=\"fill:#ffffff;stroke:#ffffff;stroke-width:0.8;\" x=\"119.298153\" xlink:href=\"#m9270cdb0dd\" y=\"267.718125\"/>\r\n      </g>\r\n     </g>\r\n     <g id=\"text_2\">\r\n      <!-- −2 -->\r\n      <g style=\"fill:#ffffff;\" transform=\"translate(111.92706 282.316563)scale(0.1 -0.1)\">\r\n       <defs>\r\n        <path d=\"M 19.1875 8.296875 \r\nL 53.609375 8.296875 \r\nL 53.609375 0 \r\nL 7.328125 0 \r\nL 7.328125 8.296875 \r\nQ 12.9375 14.109375 22.625 23.890625 \r\nQ 32.328125 33.6875 34.8125 36.53125 \r\nQ 39.546875 41.84375 41.421875 45.53125 \r\nQ 43.3125 49.21875 43.3125 52.78125 \r\nQ 43.3125 58.59375 39.234375 62.25 \r\nQ 35.15625 65.921875 28.609375 65.921875 \r\nQ 23.96875 65.921875 18.8125 64.3125 \r\nQ 13.671875 62.703125 7.8125 59.421875 \r\nL 7.8125 69.390625 \r\nQ 13.765625 71.78125 18.9375 73 \r\nQ 24.125 74.21875 28.421875 74.21875 \r\nQ 39.75 74.21875 46.484375 68.546875 \r\nQ 53.21875 62.890625 53.21875 53.421875 \r\nQ 53.21875 48.921875 51.53125 44.890625 \r\nQ 49.859375 40.875 45.40625 35.40625 \r\nQ 44.1875 33.984375 37.640625 27.21875 \r\nQ 31.109375 20.453125 19.1875 8.296875 \r\nz\r\n\" id=\"DejaVuSans-50\"/>\r\n       </defs>\r\n       <use xlink:href=\"#DejaVuSans-8722\"/>\r\n       <use x=\"83.789062\" xlink:href=\"#DejaVuSans-50\"/>\r\n      </g>\r\n     </g>\r\n    </g>\r\n    <g id=\"xtick_3\">\r\n     <g id=\"line2d_3\">\r\n      <g>\r\n       <use style=\"fill:#ffffff;stroke:#ffffff;stroke-width:0.8;\" x=\"163.114063\" xlink:href=\"#m9270cdb0dd\" y=\"267.718125\"/>\r\n      </g>\r\n     </g>\r\n     <g id=\"text_3\">\r\n      <!-- 0 -->\r\n      <g style=\"fill:#ffffff;\" transform=\"translate(159.932813 282.316563)scale(0.1 -0.1)\">\r\n       <defs>\r\n        <path d=\"M 31.78125 66.40625 \r\nQ 24.171875 66.40625 20.328125 58.90625 \r\nQ 16.5 51.421875 16.5 36.375 \r\nQ 16.5 21.390625 20.328125 13.890625 \r\nQ 24.171875 6.390625 31.78125 6.390625 \r\nQ 39.453125 6.390625 43.28125 13.890625 \r\nQ 47.125 21.390625 47.125 36.375 \r\nQ 47.125 51.421875 43.28125 58.90625 \r\nQ 39.453125 66.40625 31.78125 66.40625 \r\nz\r\nM 31.78125 74.21875 \r\nQ 44.046875 74.21875 50.515625 64.515625 \r\nQ 56.984375 54.828125 56.984375 36.375 \r\nQ 56.984375 17.96875 50.515625 8.265625 \r\nQ 44.046875 -1.421875 31.78125 -1.421875 \r\nQ 19.53125 -1.421875 13.0625 8.265625 \r\nQ 6.59375 17.96875 6.59375 36.375 \r\nQ 6.59375 54.828125 13.0625 64.515625 \r\nQ 19.53125 74.21875 31.78125 74.21875 \r\nz\r\n\" id=\"DejaVuSans-48\"/>\r\n       </defs>\r\n       <use xlink:href=\"#DejaVuSans-48\"/>\r\n      </g>\r\n     </g>\r\n    </g>\r\n    <g id=\"xtick_4\">\r\n     <g id=\"line2d_4\">\r\n      <g>\r\n       <use style=\"fill:#ffffff;stroke:#ffffff;stroke-width:0.8;\" x=\"206.929972\" xlink:href=\"#m9270cdb0dd\" y=\"267.718125\"/>\r\n      </g>\r\n     </g>\r\n     <g id=\"text_4\">\r\n      <!-- 2 -->\r\n      <g style=\"fill:#ffffff;\" transform=\"translate(203.748722 282.316563)scale(0.1 -0.1)\">\r\n       <use xlink:href=\"#DejaVuSans-50\"/>\r\n      </g>\r\n     </g>\r\n    </g>\r\n    <g id=\"xtick_5\">\r\n     <g id=\"line2d_5\">\r\n      <g>\r\n       <use style=\"fill:#ffffff;stroke:#ffffff;stroke-width:0.8;\" x=\"250.745881\" xlink:href=\"#m9270cdb0dd\" y=\"267.718125\"/>\r\n      </g>\r\n     </g>\r\n     <g id=\"text_5\">\r\n      <!-- 4 -->\r\n      <g style=\"fill:#ffffff;\" transform=\"translate(247.564631 282.316563)scale(0.1 -0.1)\">\r\n       <use xlink:href=\"#DejaVuSans-52\"/>\r\n      </g>\r\n     </g>\r\n    </g>\r\n    <g id=\"text_6\">\r\n     <!-- x -->\r\n     <g style=\"fill:#ffffff;\" transform=\"translate(160.154688 295.994687)scale(0.1 -0.1)\">\r\n      <defs>\r\n       <path d=\"M 54.890625 54.6875 \r\nL 35.109375 28.078125 \r\nL 55.90625 0 \r\nL 45.3125 0 \r\nL 29.390625 21.484375 \r\nL 13.484375 0 \r\nL 2.875 0 \r\nL 24.125 28.609375 \r\nL 4.6875 54.6875 \r\nL 15.28125 54.6875 \r\nL 29.78125 35.203125 \r\nL 44.28125 54.6875 \r\nz\r\n\" id=\"DejaVuSans-120\"/>\r\n      </defs>\r\n      <use xlink:href=\"#DejaVuSans-120\"/>\r\n     </g>\r\n    </g>\r\n   </g>\r\n   <g id=\"matplotlib.axis_2\">\r\n    <g id=\"ytick_1\">\r\n     <g id=\"line2d_6\">\r\n      <defs>\r\n       <path d=\"M 0 0 \r\nL -3.5 0 \r\n\" id=\"mb10f438609\" style=\"stroke:#ffffff;stroke-width:0.8;\"/>\r\n      </defs>\r\n      <g>\r\n       <use style=\"fill:#ffffff;stroke:#ffffff;stroke-width:0.8;\" x=\"42.620313\" xlink:href=\"#mb10f438609\" y=\"243.178125\"/>\r\n      </g>\r\n     </g>\r\n     <g id=\"text_7\">\r\n      <!-- −4 -->\r\n      <g style=\"fill:#ffffff;\" transform=\"translate(20.878125 246.977344)scale(0.1 -0.1)\">\r\n       <use xlink:href=\"#DejaVuSans-8722\"/>\r\n       <use x=\"83.789062\" xlink:href=\"#DejaVuSans-52\"/>\r\n      </g>\r\n     </g>\r\n    </g>\r\n    <g id=\"ytick_2\">\r\n     <g id=\"line2d_7\">\r\n      <g>\r\n       <use style=\"fill:#ffffff;stroke:#ffffff;stroke-width:0.8;\" x=\"42.620313\" xlink:href=\"#mb10f438609\" y=\"194.098125\"/>\r\n      </g>\r\n     </g>\r\n     <g id=\"text_8\">\r\n      <!-- −2 -->\r\n      <g style=\"fill:#ffffff;\" transform=\"translate(20.878125 197.897344)scale(0.1 -0.1)\">\r\n       <use xlink:href=\"#DejaVuSans-8722\"/>\r\n       <use x=\"83.789062\" xlink:href=\"#DejaVuSans-50\"/>\r\n      </g>\r\n     </g>\r\n    </g>\r\n    <g id=\"ytick_3\">\r\n     <g id=\"line2d_8\">\r\n      <g>\r\n       <use style=\"fill:#ffffff;stroke:#ffffff;stroke-width:0.8;\" x=\"42.620313\" xlink:href=\"#mb10f438609\" y=\"145.018125\"/>\r\n      </g>\r\n     </g>\r\n     <g id=\"text_9\">\r\n      <!-- 0 -->\r\n      <g style=\"fill:#ffffff;\" transform=\"translate(29.257813 148.817344)scale(0.1 -0.1)\">\r\n       <use xlink:href=\"#DejaVuSans-48\"/>\r\n      </g>\r\n     </g>\r\n    </g>\r\n    <g id=\"ytick_4\">\r\n     <g id=\"line2d_9\">\r\n      <g>\r\n       <use style=\"fill:#ffffff;stroke:#ffffff;stroke-width:0.8;\" x=\"42.620313\" xlink:href=\"#mb10f438609\" y=\"95.938125\"/>\r\n      </g>\r\n     </g>\r\n     <g id=\"text_10\">\r\n      <!-- 2 -->\r\n      <g style=\"fill:#ffffff;\" transform=\"translate(29.257813 99.737344)scale(0.1 -0.1)\">\r\n       <use xlink:href=\"#DejaVuSans-50\"/>\r\n      </g>\r\n     </g>\r\n    </g>\r\n    <g id=\"ytick_5\">\r\n     <g id=\"line2d_10\">\r\n      <g>\r\n       <use style=\"fill:#ffffff;stroke:#ffffff;stroke-width:0.8;\" x=\"42.620313\" xlink:href=\"#mb10f438609\" y=\"46.858125\"/>\r\n      </g>\r\n     </g>\r\n     <g id=\"text_11\">\r\n      <!-- 4 -->\r\n      <g style=\"fill:#ffffff;\" transform=\"translate(29.257813 50.657344)scale(0.1 -0.1)\">\r\n       <use xlink:href=\"#DejaVuSans-52\"/>\r\n      </g>\r\n     </g>\r\n    </g>\r\n    <g id=\"text_12\">\r\n     <!-- f1(x) -->\r\n     <g style=\"fill:#ffffff;\" transform=\"translate(14.798438 156.820469)rotate(-90)scale(0.1 -0.1)\">\r\n      <defs>\r\n       <path d=\"M 37.109375 75.984375 \r\nL 37.109375 68.5 \r\nL 28.515625 68.5 \r\nQ 23.6875 68.5 21.796875 66.546875 \r\nQ 19.921875 64.59375 19.921875 59.515625 \r\nL 19.921875 54.6875 \r\nL 34.71875 54.6875 \r\nL 34.71875 47.703125 \r\nL 19.921875 47.703125 \r\nL 19.921875 0 \r\nL 10.890625 0 \r\nL 10.890625 47.703125 \r\nL 2.296875 47.703125 \r\nL 2.296875 54.6875 \r\nL 10.890625 54.6875 \r\nL 10.890625 58.5 \r\nQ 10.890625 67.625 15.140625 71.796875 \r\nQ 19.390625 75.984375 28.609375 75.984375 \r\nz\r\n\" id=\"DejaVuSans-102\"/>\r\n       <path d=\"M 12.40625 8.296875 \r\nL 28.515625 8.296875 \r\nL 28.515625 63.921875 \r\nL 10.984375 60.40625 \r\nL 10.984375 69.390625 \r\nL 28.421875 72.90625 \r\nL 38.28125 72.90625 \r\nL 38.28125 8.296875 \r\nL 54.390625 8.296875 \r\nL 54.390625 0 \r\nL 12.40625 0 \r\nz\r\n\" id=\"DejaVuSans-49\"/>\r\n       <path d=\"M 31 75.875 \r\nQ 24.46875 64.65625 21.28125 53.65625 \r\nQ 18.109375 42.671875 18.109375 31.390625 \r\nQ 18.109375 20.125 21.3125 9.0625 \r\nQ 24.515625 -2 31 -13.1875 \r\nL 23.1875 -13.1875 \r\nQ 15.875 -1.703125 12.234375 9.375 \r\nQ 8.59375 20.453125 8.59375 31.390625 \r\nQ 8.59375 42.28125 12.203125 53.3125 \r\nQ 15.828125 64.359375 23.1875 75.875 \r\nz\r\n\" id=\"DejaVuSans-40\"/>\r\n       <path d=\"M 8.015625 75.875 \r\nL 15.828125 75.875 \r\nQ 23.140625 64.359375 26.78125 53.3125 \r\nQ 30.421875 42.28125 30.421875 31.390625 \r\nQ 30.421875 20.453125 26.78125 9.375 \r\nQ 23.140625 -1.703125 15.828125 -13.1875 \r\nL 8.015625 -13.1875 \r\nQ 14.5 -2 17.703125 9.0625 \r\nQ 20.90625 20.125 20.90625 31.390625 \r\nQ 20.90625 42.671875 17.703125 53.65625 \r\nQ 14.5 64.65625 8.015625 75.875 \r\nz\r\n\" id=\"DejaVuSans-41\"/>\r\n      </defs>\r\n      <use xlink:href=\"#DejaVuSans-102\"/>\r\n      <use x=\"35.205078\" xlink:href=\"#DejaVuSans-49\"/>\r\n      <use x=\"98.828125\" xlink:href=\"#DejaVuSans-40\"/>\r\n      <use x=\"137.841797\" xlink:href=\"#DejaVuSans-120\"/>\r\n      <use x=\"197.021484\" xlink:href=\"#DejaVuSans-41\"/>\r\n     </g>\r\n    </g>\r\n   </g>\r\n   <g id=\"line2d_11\">\r\n    <path clip-path=\"url(#p1ae6761aee)\" d=\"M 124.747155 306.274375 \r\nL 126.600805 268.627014 \r\nL 128.81373 229.191246 \r\nL 131.026654 194.960402 \r\nL 133.239579 165.630988 \r\nL 135.452504 140.899508 \r\nL 137.665428 120.46247 \r\nL 139.878353 104.016379 \r\nL 142.091278 91.25774 \r\nL 144.304203 81.883061 \r\nL 146.517127 75.588847 \r\nL 148.730052 72.071604 \r\nL 150.942977 71.027837 \r\nL 153.155901 72.154053 \r\nL 155.368826 75.146757 \r\nL 157.581751 79.702456 \r\nL 159.794675 85.517656 \r\nL 162.0076 92.288862 \r\nL 164.220525 99.71258 \r\nL 166.43345 107.485316 \r\nL 168.646374 115.303576 \r\nL 170.859299 122.863867 \r\nL 173.072224 129.862693 \r\nL 175.285148 135.996561 \r\nL 177.498073 140.961977 \r\nL 179.710998 144.455447 \r\nL 181.923922 146.173476 \r\nL 184.136847 145.812571 \r\nL 186.349772 143.069238 \r\nL 188.562697 137.639982 \r\nL 190.775621 129.221309 \r\nL 192.988546 117.509725 \r\nL 195.201471 102.201737 \r\nL 197.414395 82.99385 \r\nL 199.62732 59.582569 \r\nL 201.840245 31.664402 \r\nL 204.048832 -1 \r\n\" style=\"fill:none;stroke:#1e90ff;stroke-linecap:square;stroke-width:2;\"/>\r\n   </g>\r\n   <g id=\"line2d_12\">\r\n    <path clip-path=\"url(#p1ae6761aee)\" d=\"M 150.849628 71.025899 \r\n\" style=\"fill:none;stroke:#1e90ff;stroke-linecap:square;stroke-width:1.5;\"/>\r\n    <defs>\r\n     <path d=\"M 0 -4 \r\nL -4 4 \r\nL 4 4 \r\nz\r\n\" id=\"m78e218e0b7\" style=\"stroke:#1e90ff;stroke-linejoin:miter;\"/>\r\n    </defs>\r\n    <g clip-path=\"url(#p1ae6761aee)\">\r\n     <use style=\"fill:#1e90ff;stroke:#1e90ff;stroke-linejoin:miter;\" x=\"150.849628\" xlink:href=\"#m78e218e0b7\" y=\"71.025899\"/>\r\n    </g>\r\n   </g>\r\n   <g id=\"line2d_13\">\r\n    <path clip-path=\"url(#p1ae6761aee)\" d=\"M 182.681148 146.29924 \r\n\" style=\"fill:none;stroke:#1e90ff;stroke-linecap:square;stroke-width:1.5;\"/>\r\n    <defs>\r\n     <path d=\"M -0 4 \r\nL 4 -4 \r\nL -4 -4 \r\nz\r\n\" id=\"mde7e95c4ee\" style=\"stroke:#1e90ff;stroke-linejoin:miter;\"/>\r\n    </defs>\r\n    <g clip-path=\"url(#p1ae6761aee)\">\r\n     <use style=\"fill:#1e90ff;stroke:#1e90ff;stroke-linejoin:miter;\" x=\"182.681148\" xlink:href=\"#mde7e95c4ee\" y=\"146.29924\"/>\r\n    </g>\r\n   </g>\r\n   <g id=\"line2d_14\">\r\n    <path clip-path=\"url(#p1ae6761aee)\" d=\"M 42.620313 145.018125 \r\nL 283.607813 145.018125 \r\n\" style=\"fill:none;stroke:#808080;stroke-linecap:square;stroke-width:0.5;\"/>\r\n   </g>\r\n   <g id=\"line2d_15\">\r\n    <path clip-path=\"url(#p1ae6761aee)\" d=\"M 163.114063 267.718125 \r\nL 163.114063 22.318125 \r\n\" style=\"fill:none;stroke:#808080;stroke-linecap:square;stroke-width:0.5;\"/>\r\n   </g>\r\n   <g id=\"patch_3\">\r\n    <path d=\"M 42.620313 267.718125 \r\nL 42.620313 22.318125 \r\n\" style=\"fill:none;stroke:#ffffff;stroke-linecap:square;stroke-linejoin:miter;stroke-width:0.8;\"/>\r\n   </g>\r\n   <g id=\"patch_4\">\r\n    <path d=\"M 283.607813 267.718125 \r\nL 283.607813 22.318125 \r\n\" style=\"fill:none;stroke:#ffffff;stroke-linecap:square;stroke-linejoin:miter;stroke-width:0.8;\"/>\r\n   </g>\r\n   <g id=\"patch_5\">\r\n    <path d=\"M 42.620313 267.718125 \r\nL 283.607813 267.718125 \r\n\" style=\"fill:none;stroke:#ffffff;stroke-linecap:square;stroke-linejoin:miter;stroke-width:0.8;\"/>\r\n   </g>\r\n   <g id=\"patch_6\">\r\n    <path d=\"M 42.620313 22.318125 \r\nL 283.607813 22.318125 \r\n\" style=\"fill:none;stroke:#ffffff;stroke-linecap:square;stroke-linejoin:miter;stroke-width:0.8;\"/>\r\n   </g>\r\n   <g id=\"text_13\">\r\n    <!-- FUNCTION 1 -->\r\n    <g style=\"fill:#ffffff;\" transform=\"translate(126.2225 16.318125)scale(0.12 -0.12)\">\r\n     <defs>\r\n      <path d=\"M 9.8125 72.90625 \r\nL 51.703125 72.90625 \r\nL 51.703125 64.59375 \r\nL 19.671875 64.59375 \r\nL 19.671875 43.109375 \r\nL 48.578125 43.109375 \r\nL 48.578125 34.8125 \r\nL 19.671875 34.8125 \r\nL 19.671875 0 \r\nL 9.8125 0 \r\nz\r\n\" id=\"DejaVuSans-70\"/>\r\n      <path d=\"M 8.6875 72.90625 \r\nL 18.609375 72.90625 \r\nL 18.609375 28.609375 \r\nQ 18.609375 16.890625 22.84375 11.734375 \r\nQ 27.09375 6.59375 36.625 6.59375 \r\nQ 46.09375 6.59375 50.34375 11.734375 \r\nQ 54.59375 16.890625 54.59375 28.609375 \r\nL 54.59375 72.90625 \r\nL 64.5 72.90625 \r\nL 64.5 27.390625 \r\nQ 64.5 13.140625 57.4375 5.859375 \r\nQ 50.390625 -1.421875 36.625 -1.421875 \r\nQ 22.796875 -1.421875 15.734375 5.859375 \r\nQ 8.6875 13.140625 8.6875 27.390625 \r\nz\r\n\" id=\"DejaVuSans-85\"/>\r\n      <path d=\"M 9.8125 72.90625 \r\nL 23.09375 72.90625 \r\nL 55.421875 11.921875 \r\nL 55.421875 72.90625 \r\nL 64.984375 72.90625 \r\nL 64.984375 0 \r\nL 51.703125 0 \r\nL 19.390625 60.984375 \r\nL 19.390625 0 \r\nL 9.8125 0 \r\nz\r\n\" id=\"DejaVuSans-78\"/>\r\n      <path d=\"M 64.40625 67.28125 \r\nL 64.40625 56.890625 \r\nQ 59.421875 61.53125 53.78125 63.8125 \r\nQ 48.140625 66.109375 41.796875 66.109375 \r\nQ 29.296875 66.109375 22.65625 58.46875 \r\nQ 16.015625 50.828125 16.015625 36.375 \r\nQ 16.015625 21.96875 22.65625 14.328125 \r\nQ 29.296875 6.6875 41.796875 6.6875 \r\nQ 48.140625 6.6875 53.78125 8.984375 \r\nQ 59.421875 11.28125 64.40625 15.921875 \r\nL 64.40625 5.609375 \r\nQ 59.234375 2.09375 53.4375 0.328125 \r\nQ 47.65625 -1.421875 41.21875 -1.421875 \r\nQ 24.65625 -1.421875 15.125 8.703125 \r\nQ 5.609375 18.84375 5.609375 36.375 \r\nQ 5.609375 53.953125 15.125 64.078125 \r\nQ 24.65625 74.21875 41.21875 74.21875 \r\nQ 47.75 74.21875 53.53125 72.484375 \r\nQ 59.328125 70.75 64.40625 67.28125 \r\nz\r\n\" id=\"DejaVuSans-67\"/>\r\n      <path d=\"M -0.296875 72.90625 \r\nL 61.375 72.90625 \r\nL 61.375 64.59375 \r\nL 35.5 64.59375 \r\nL 35.5 0 \r\nL 25.59375 0 \r\nL 25.59375 64.59375 \r\nL -0.296875 64.59375 \r\nz\r\n\" id=\"DejaVuSans-84\"/>\r\n      <path d=\"M 9.8125 72.90625 \r\nL 19.671875 72.90625 \r\nL 19.671875 0 \r\nL 9.8125 0 \r\nz\r\n\" id=\"DejaVuSans-73\"/>\r\n      <path d=\"M 39.40625 66.21875 \r\nQ 28.65625 66.21875 22.328125 58.203125 \r\nQ 16.015625 50.203125 16.015625 36.375 \r\nQ 16.015625 22.609375 22.328125 14.59375 \r\nQ 28.65625 6.59375 39.40625 6.59375 \r\nQ 50.140625 6.59375 56.421875 14.59375 \r\nQ 62.703125 22.609375 62.703125 36.375 \r\nQ 62.703125 50.203125 56.421875 58.203125 \r\nQ 50.140625 66.21875 39.40625 66.21875 \r\nz\r\nM 39.40625 74.21875 \r\nQ 54.734375 74.21875 63.90625 63.9375 \r\nQ 73.09375 53.65625 73.09375 36.375 \r\nQ 73.09375 19.140625 63.90625 8.859375 \r\nQ 54.734375 -1.421875 39.40625 -1.421875 \r\nQ 24.03125 -1.421875 14.8125 8.828125 \r\nQ 5.609375 19.09375 5.609375 36.375 \r\nQ 5.609375 53.65625 14.8125 63.9375 \r\nQ 24.03125 74.21875 39.40625 74.21875 \r\nz\r\n\" id=\"DejaVuSans-79\"/>\r\n      <path id=\"DejaVuSans-32\"/>\r\n     </defs>\r\n     <use xlink:href=\"#DejaVuSans-70\"/>\r\n     <use x=\"57.519531\" xlink:href=\"#DejaVuSans-85\"/>\r\n     <use x=\"130.712891\" xlink:href=\"#DejaVuSans-78\"/>\r\n     <use x=\"205.517578\" xlink:href=\"#DejaVuSans-67\"/>\r\n     <use x=\"275.341797\" xlink:href=\"#DejaVuSans-84\"/>\r\n     <use x=\"336.425781\" xlink:href=\"#DejaVuSans-73\"/>\r\n     <use x=\"365.917969\" xlink:href=\"#DejaVuSans-79\"/>\r\n     <use x=\"444.628906\" xlink:href=\"#DejaVuSans-78\"/>\r\n     <use x=\"519.433594\" xlink:href=\"#DejaVuSans-32\"/>\r\n     <use x=\"551.220703\" xlink:href=\"#DejaVuSans-49\"/>\r\n    </g>\r\n   </g>\r\n  </g>\r\n  <g id=\"axes_2\">\r\n   <g id=\"patch_7\">\r\n    <path d=\"M 325.220312 267.718125 \r\nL 566.207812 267.718125 \r\nL 566.207812 22.318125 \r\nL 325.220312 22.318125 \r\nz\r\n\"/>\r\n   </g>\r\n   <g id=\"matplotlib.axis_3\">\r\n    <g id=\"xtick_6\">\r\n     <g id=\"line2d_16\">\r\n      <g>\r\n       <use style=\"fill:#ffffff;stroke:#ffffff;stroke-width:0.8;\" x=\"358.082244\" xlink:href=\"#m9270cdb0dd\" y=\"267.718125\"/>\r\n      </g>\r\n     </g>\r\n     <g id=\"text_14\">\r\n      <!-- −4 -->\r\n      <g style=\"fill:#ffffff;\" transform=\"translate(350.711151 282.316563)scale(0.1 -0.1)\">\r\n       <use xlink:href=\"#DejaVuSans-8722\"/>\r\n       <use x=\"83.789062\" xlink:href=\"#DejaVuSans-52\"/>\r\n      </g>\r\n     </g>\r\n    </g>\r\n    <g id=\"xtick_7\">\r\n     <g id=\"line2d_17\">\r\n      <g>\r\n       <use style=\"fill:#ffffff;stroke:#ffffff;stroke-width:0.8;\" x=\"401.898153\" xlink:href=\"#m9270cdb0dd\" y=\"267.718125\"/>\r\n      </g>\r\n     </g>\r\n     <g id=\"text_15\">\r\n      <!-- −2 -->\r\n      <g style=\"fill:#ffffff;\" transform=\"translate(394.52706 282.316563)scale(0.1 -0.1)\">\r\n       <use xlink:href=\"#DejaVuSans-8722\"/>\r\n       <use x=\"83.789062\" xlink:href=\"#DejaVuSans-50\"/>\r\n      </g>\r\n     </g>\r\n    </g>\r\n    <g id=\"xtick_8\">\r\n     <g id=\"line2d_18\">\r\n      <g>\r\n       <use style=\"fill:#ffffff;stroke:#ffffff;stroke-width:0.8;\" x=\"445.714062\" xlink:href=\"#m9270cdb0dd\" y=\"267.718125\"/>\r\n      </g>\r\n     </g>\r\n     <g id=\"text_16\">\r\n      <!-- 0 -->\r\n      <g style=\"fill:#ffffff;\" transform=\"translate(442.532812 282.316563)scale(0.1 -0.1)\">\r\n       <use xlink:href=\"#DejaVuSans-48\"/>\r\n      </g>\r\n     </g>\r\n    </g>\r\n    <g id=\"xtick_9\">\r\n     <g id=\"line2d_19\">\r\n      <g>\r\n       <use style=\"fill:#ffffff;stroke:#ffffff;stroke-width:0.8;\" x=\"489.529972\" xlink:href=\"#m9270cdb0dd\" y=\"267.718125\"/>\r\n      </g>\r\n     </g>\r\n     <g id=\"text_17\">\r\n      <!-- 2 -->\r\n      <g style=\"fill:#ffffff;\" transform=\"translate(486.348722 282.316563)scale(0.1 -0.1)\">\r\n       <use xlink:href=\"#DejaVuSans-50\"/>\r\n      </g>\r\n     </g>\r\n    </g>\r\n    <g id=\"xtick_10\">\r\n     <g id=\"line2d_20\">\r\n      <g>\r\n       <use style=\"fill:#ffffff;stroke:#ffffff;stroke-width:0.8;\" x=\"533.345881\" xlink:href=\"#m9270cdb0dd\" y=\"267.718125\"/>\r\n      </g>\r\n     </g>\r\n     <g id=\"text_18\">\r\n      <!-- 4 -->\r\n      <g style=\"fill:#ffffff;\" transform=\"translate(530.164631 282.316563)scale(0.1 -0.1)\">\r\n       <use xlink:href=\"#DejaVuSans-52\"/>\r\n      </g>\r\n     </g>\r\n    </g>\r\n    <g id=\"text_19\">\r\n     <!-- x -->\r\n     <g style=\"fill:#ffffff;\" transform=\"translate(442.754687 295.994687)scale(0.1 -0.1)\">\r\n      <use xlink:href=\"#DejaVuSans-120\"/>\r\n     </g>\r\n    </g>\r\n   </g>\r\n   <g id=\"matplotlib.axis_4\">\r\n    <g id=\"ytick_6\">\r\n     <g id=\"line2d_21\">\r\n      <g>\r\n       <use style=\"fill:#ffffff;stroke:#ffffff;stroke-width:0.8;\" x=\"325.220312\" xlink:href=\"#mb10f438609\" y=\"267.718125\"/>\r\n      </g>\r\n     </g>\r\n     <g id=\"text_20\">\r\n      <!-- −1.00 -->\r\n      <g style=\"fill:#ffffff;\" transform=\"translate(287.575 271.517344)scale(0.1 -0.1)\">\r\n       <defs>\r\n        <path d=\"M 10.6875 12.40625 \r\nL 21 12.40625 \r\nL 21 0 \r\nL 10.6875 0 \r\nz\r\n\" id=\"DejaVuSans-46\"/>\r\n       </defs>\r\n       <use xlink:href=\"#DejaVuSans-8722\"/>\r\n       <use x=\"83.789062\" xlink:href=\"#DejaVuSans-49\"/>\r\n       <use x=\"147.412109\" xlink:href=\"#DejaVuSans-46\"/>\r\n       <use x=\"179.199219\" xlink:href=\"#DejaVuSans-48\"/>\r\n       <use x=\"242.822266\" xlink:href=\"#DejaVuSans-48\"/>\r\n      </g>\r\n     </g>\r\n    </g>\r\n    <g id=\"ytick_7\">\r\n     <g id=\"line2d_22\">\r\n      <g>\r\n       <use style=\"fill:#ffffff;stroke:#ffffff;stroke-width:0.8;\" x=\"325.220312\" xlink:href=\"#mb10f438609\" y=\"237.043125\"/>\r\n      </g>\r\n     </g>\r\n     <g id=\"text_21\">\r\n      <!-- −0.75 -->\r\n      <g style=\"fill:#ffffff;\" transform=\"translate(287.575 240.842344)scale(0.1 -0.1)\">\r\n       <defs>\r\n        <path d=\"M 8.203125 72.90625 \r\nL 55.078125 72.90625 \r\nL 55.078125 68.703125 \r\nL 28.609375 0 \r\nL 18.3125 0 \r\nL 43.21875 64.59375 \r\nL 8.203125 64.59375 \r\nz\r\n\" id=\"DejaVuSans-55\"/>\r\n        <path d=\"M 10.796875 72.90625 \r\nL 49.515625 72.90625 \r\nL 49.515625 64.59375 \r\nL 19.828125 64.59375 \r\nL 19.828125 46.734375 \r\nQ 21.96875 47.46875 24.109375 47.828125 \r\nQ 26.265625 48.1875 28.421875 48.1875 \r\nQ 40.625 48.1875 47.75 41.5 \r\nQ 54.890625 34.8125 54.890625 23.390625 \r\nQ 54.890625 11.625 47.5625 5.09375 \r\nQ 40.234375 -1.421875 26.90625 -1.421875 \r\nQ 22.3125 -1.421875 17.546875 -0.640625 \r\nQ 12.796875 0.140625 7.71875 1.703125 \r\nL 7.71875 11.625 \r\nQ 12.109375 9.234375 16.796875 8.0625 \r\nQ 21.484375 6.890625 26.703125 6.890625 \r\nQ 35.15625 6.890625 40.078125 11.328125 \r\nQ 45.015625 15.765625 45.015625 23.390625 \r\nQ 45.015625 31 40.078125 35.4375 \r\nQ 35.15625 39.890625 26.703125 39.890625 \r\nQ 22.75 39.890625 18.8125 39.015625 \r\nQ 14.890625 38.140625 10.796875 36.28125 \r\nz\r\n\" id=\"DejaVuSans-53\"/>\r\n       </defs>\r\n       <use xlink:href=\"#DejaVuSans-8722\"/>\r\n       <use x=\"83.789062\" xlink:href=\"#DejaVuSans-48\"/>\r\n       <use x=\"147.412109\" xlink:href=\"#DejaVuSans-46\"/>\r\n       <use x=\"179.199219\" xlink:href=\"#DejaVuSans-55\"/>\r\n       <use x=\"242.822266\" xlink:href=\"#DejaVuSans-53\"/>\r\n      </g>\r\n     </g>\r\n    </g>\r\n    <g id=\"ytick_8\">\r\n     <g id=\"line2d_23\">\r\n      <g>\r\n       <use style=\"fill:#ffffff;stroke:#ffffff;stroke-width:0.8;\" x=\"325.220312\" xlink:href=\"#mb10f438609\" y=\"206.368125\"/>\r\n      </g>\r\n     </g>\r\n     <g id=\"text_22\">\r\n      <!-- −0.50 -->\r\n      <g style=\"fill:#ffffff;\" transform=\"translate(287.575 210.167344)scale(0.1 -0.1)\">\r\n       <use xlink:href=\"#DejaVuSans-8722\"/>\r\n       <use x=\"83.789062\" xlink:href=\"#DejaVuSans-48\"/>\r\n       <use x=\"147.412109\" xlink:href=\"#DejaVuSans-46\"/>\r\n       <use x=\"179.199219\" xlink:href=\"#DejaVuSans-53\"/>\r\n       <use x=\"242.822266\" xlink:href=\"#DejaVuSans-48\"/>\r\n      </g>\r\n     </g>\r\n    </g>\r\n    <g id=\"ytick_9\">\r\n     <g id=\"line2d_24\">\r\n      <g>\r\n       <use style=\"fill:#ffffff;stroke:#ffffff;stroke-width:0.8;\" x=\"325.220312\" xlink:href=\"#mb10f438609\" y=\"175.693125\"/>\r\n      </g>\r\n     </g>\r\n     <g id=\"text_23\">\r\n      <!-- −0.25 -->\r\n      <g style=\"fill:#ffffff;\" transform=\"translate(287.575 179.492344)scale(0.1 -0.1)\">\r\n       <use xlink:href=\"#DejaVuSans-8722\"/>\r\n       <use x=\"83.789062\" xlink:href=\"#DejaVuSans-48\"/>\r\n       <use x=\"147.412109\" xlink:href=\"#DejaVuSans-46\"/>\r\n       <use x=\"179.199219\" xlink:href=\"#DejaVuSans-50\"/>\r\n       <use x=\"242.822266\" xlink:href=\"#DejaVuSans-53\"/>\r\n      </g>\r\n     </g>\r\n    </g>\r\n    <g id=\"ytick_10\">\r\n     <g id=\"line2d_25\">\r\n      <g>\r\n       <use style=\"fill:#ffffff;stroke:#ffffff;stroke-width:0.8;\" x=\"325.220312\" xlink:href=\"#mb10f438609\" y=\"145.018125\"/>\r\n      </g>\r\n     </g>\r\n     <g id=\"text_24\">\r\n      <!-- 0.00 -->\r\n      <g style=\"fill:#ffffff;\" transform=\"translate(295.954687 148.817344)scale(0.1 -0.1)\">\r\n       <use xlink:href=\"#DejaVuSans-48\"/>\r\n       <use x=\"63.623047\" xlink:href=\"#DejaVuSans-46\"/>\r\n       <use x=\"95.410156\" xlink:href=\"#DejaVuSans-48\"/>\r\n       <use x=\"159.033203\" xlink:href=\"#DejaVuSans-48\"/>\r\n      </g>\r\n     </g>\r\n    </g>\r\n    <g id=\"ytick_11\">\r\n     <g id=\"line2d_26\">\r\n      <g>\r\n       <use style=\"fill:#ffffff;stroke:#ffffff;stroke-width:0.8;\" x=\"325.220312\" xlink:href=\"#mb10f438609\" y=\"114.343125\"/>\r\n      </g>\r\n     </g>\r\n     <g id=\"text_25\">\r\n      <!-- 0.25 -->\r\n      <g style=\"fill:#ffffff;\" transform=\"translate(295.954687 118.142344)scale(0.1 -0.1)\">\r\n       <use xlink:href=\"#DejaVuSans-48\"/>\r\n       <use x=\"63.623047\" xlink:href=\"#DejaVuSans-46\"/>\r\n       <use x=\"95.410156\" xlink:href=\"#DejaVuSans-50\"/>\r\n       <use x=\"159.033203\" xlink:href=\"#DejaVuSans-53\"/>\r\n      </g>\r\n     </g>\r\n    </g>\r\n    <g id=\"ytick_12\">\r\n     <g id=\"line2d_27\">\r\n      <g>\r\n       <use style=\"fill:#ffffff;stroke:#ffffff;stroke-width:0.8;\" x=\"325.220312\" xlink:href=\"#mb10f438609\" y=\"83.668125\"/>\r\n      </g>\r\n     </g>\r\n     <g id=\"text_26\">\r\n      <!-- 0.50 -->\r\n      <g style=\"fill:#ffffff;\" transform=\"translate(295.954687 87.467344)scale(0.1 -0.1)\">\r\n       <use xlink:href=\"#DejaVuSans-48\"/>\r\n       <use x=\"63.623047\" xlink:href=\"#DejaVuSans-46\"/>\r\n       <use x=\"95.410156\" xlink:href=\"#DejaVuSans-53\"/>\r\n       <use x=\"159.033203\" xlink:href=\"#DejaVuSans-48\"/>\r\n      </g>\r\n     </g>\r\n    </g>\r\n    <g id=\"ytick_13\">\r\n     <g id=\"line2d_28\">\r\n      <g>\r\n       <use style=\"fill:#ffffff;stroke:#ffffff;stroke-width:0.8;\" x=\"325.220312\" xlink:href=\"#mb10f438609\" y=\"52.993125\"/>\r\n      </g>\r\n     </g>\r\n     <g id=\"text_27\">\r\n      <!-- 0.75 -->\r\n      <g style=\"fill:#ffffff;\" transform=\"translate(295.954687 56.792344)scale(0.1 -0.1)\">\r\n       <use xlink:href=\"#DejaVuSans-48\"/>\r\n       <use x=\"63.623047\" xlink:href=\"#DejaVuSans-46\"/>\r\n       <use x=\"95.410156\" xlink:href=\"#DejaVuSans-55\"/>\r\n       <use x=\"159.033203\" xlink:href=\"#DejaVuSans-53\"/>\r\n      </g>\r\n     </g>\r\n    </g>\r\n    <g id=\"ytick_14\">\r\n     <g id=\"line2d_29\">\r\n      <g>\r\n       <use style=\"fill:#ffffff;stroke:#ffffff;stroke-width:0.8;\" x=\"325.220312\" xlink:href=\"#mb10f438609\" y=\"22.318125\"/>\r\n      </g>\r\n     </g>\r\n     <g id=\"text_28\">\r\n      <!-- 1.00 -->\r\n      <g style=\"fill:#ffffff;\" transform=\"translate(295.954687 26.117344)scale(0.1 -0.1)\">\r\n       <use xlink:href=\"#DejaVuSans-49\"/>\r\n       <use x=\"63.623047\" xlink:href=\"#DejaVuSans-46\"/>\r\n       <use x=\"95.410156\" xlink:href=\"#DejaVuSans-48\"/>\r\n       <use x=\"159.033203\" xlink:href=\"#DejaVuSans-48\"/>\r\n      </g>\r\n     </g>\r\n    </g>\r\n    <g id=\"text_29\">\r\n     <!-- f2(x) -->\r\n     <g style=\"fill:#ffffff;\" transform=\"translate(281.495313 156.820469)rotate(-90)scale(0.1 -0.1)\">\r\n      <use xlink:href=\"#DejaVuSans-102\"/>\r\n      <use x=\"35.205078\" xlink:href=\"#DejaVuSans-50\"/>\r\n      <use x=\"98.828125\" xlink:href=\"#DejaVuSans-40\"/>\r\n      <use x=\"137.841797\" xlink:href=\"#DejaVuSans-120\"/>\r\n      <use x=\"197.021484\" xlink:href=\"#DejaVuSans-41\"/>\r\n     </g>\r\n    </g>\r\n   </g>\r\n   <g id=\"line2d_30\">\r\n    <path clip-path=\"url(#paa592fccbc)\" d=\"M 431.894443 -1 \r\nL 433.542977 26.209828 \r\nL 435.755901 57.150586 \r\nL 437.968826 83.242682 \r\nL 440.181751 105.132197 \r\nL 442.394675 123.385819 \r\nL 444.6076 138.500139 \r\nL 446.820525 150.909889 \r\nL 449.03345 160.995243 \r\nL 451.246374 169.088289 \r\nL 453.459299 175.47876 \r\nL 455.672224 180.419106 \r\nL 457.885148 184.128983 \r\nL 460.098073 186.799226 \r\nL 462.310998 188.595359 \r\nL 464.523922 189.660696 \r\nL 466.736847 190.119081 \r\nL 468.949772 190.077307 \r\nL 471.162697 189.627252 \r\nL 473.375621 188.847751 \r\nL 475.588546 187.806263 \r\nL 477.801471 186.560325 \r\nL 480.014395 185.158836 \r\nL 482.22732 183.643186 \r\nL 484.440245 182.048248 \r\nL 486.653169 180.403247 \r\nL 488.866094 178.732527 \r\nL 491.079019 177.056212 \r\nL 493.291944 175.3908 \r\nL 495.504868 173.74967 \r\nL 497.717793 172.143527 \r\nL 499.930718 170.580799 \r\nL 502.143642 169.067968 \r\nL 504.356567 167.609872 \r\nL 506.569492 166.209957 \r\nL 508.782416 164.870503 \r\nL 510.995341 163.592815 \r\nL 513.208266 162.377387 \r\nL 515.421191 161.224051 \r\nL 517.634115 160.132094 \r\nL 519.84704 159.100368 \r\nL 522.059965 158.12738 \r\nL 524.272889 157.211365 \r\nL 526.485814 156.350358 \r\nL 528.698739 155.542245 \r\nL 530.911664 154.784808 \r\nL 533.124588 154.075771 \r\nL 535.337513 153.412824 \r\nL 537.550438 152.793657 \r\nL 539.763362 152.215975 \r\nL 541.976287 151.677523 \r\nL 544.189212 151.176096 \r\nL 546.402136 150.709548 \r\nL 548.615061 150.275807 \r\nL 550.827986 149.872875 \r\nL 553.040911 149.498835 \r\nL 555.253835 149.151855 \r\n\" style=\"fill:none;stroke:#f08080;stroke-linecap:square;stroke-width:2;\"/>\r\n   </g>\r\n   <g id=\"line2d_31\">\r\n    <path clip-path=\"url(#paa592fccbc)\" d=\"M 467.622017 190.156932 \r\n\" style=\"fill:none;stroke:#f08080;stroke-linecap:square;stroke-width:1.5;\"/>\r\n    <defs>\r\n     <path d=\"M -0 4 \r\nL 4 -4 \r\nL -4 -4 \r\nz\r\n\" id=\"m1e25d8cbdd\" style=\"stroke:#f08080;stroke-linejoin:miter;\"/>\r\n    </defs>\r\n    <g clip-path=\"url(#paa592fccbc)\">\r\n     <use style=\"fill:#f08080;stroke:#f08080;stroke-linejoin:miter;\" x=\"467.622017\" xlink:href=\"#m1e25d8cbdd\" y=\"190.156932\"/>\r\n    </g>\r\n   </g>\r\n   <g id=\"line2d_32\">\r\n    <path clip-path=\"url(#paa592fccbc)\" d=\"M 325.220312 145.018125 \r\nL 566.207812 145.018125 \r\n\" style=\"fill:none;stroke:#808080;stroke-linecap:square;stroke-width:0.5;\"/>\r\n   </g>\r\n   <g id=\"line2d_33\">\r\n    <path clip-path=\"url(#paa592fccbc)\" d=\"M 445.714062 267.718125 \r\nL 445.714062 22.318125 \r\n\" style=\"fill:none;stroke:#808080;stroke-linecap:square;stroke-width:0.5;\"/>\r\n   </g>\r\n   <g id=\"patch_8\">\r\n    <path d=\"M 325.220312 267.718125 \r\nL 325.220312 22.318125 \r\n\" style=\"fill:none;stroke:#ffffff;stroke-linecap:square;stroke-linejoin:miter;stroke-width:0.8;\"/>\r\n   </g>\r\n   <g id=\"patch_9\">\r\n    <path d=\"M 566.207812 267.718125 \r\nL 566.207812 22.318125 \r\n\" style=\"fill:none;stroke:#ffffff;stroke-linecap:square;stroke-linejoin:miter;stroke-width:0.8;\"/>\r\n   </g>\r\n   <g id=\"patch_10\">\r\n    <path d=\"M 325.220312 267.718125 \r\nL 566.207812 267.718125 \r\n\" style=\"fill:none;stroke:#ffffff;stroke-linecap:square;stroke-linejoin:miter;stroke-width:0.8;\"/>\r\n   </g>\r\n   <g id=\"patch_11\">\r\n    <path d=\"M 325.220312 22.318125 \r\nL 566.207812 22.318125 \r\n\" style=\"fill:none;stroke:#ffffff;stroke-linecap:square;stroke-linejoin:miter;stroke-width:0.8;\"/>\r\n   </g>\r\n   <g id=\"text_30\">\r\n    <!-- FUNCTION 2 -->\r\n    <g style=\"fill:#ffffff;\" transform=\"translate(408.8225 16.318125)scale(0.12 -0.12)\">\r\n     <use xlink:href=\"#DejaVuSans-70\"/>\r\n     <use x=\"57.519531\" xlink:href=\"#DejaVuSans-85\"/>\r\n     <use x=\"130.712891\" xlink:href=\"#DejaVuSans-78\"/>\r\n     <use x=\"205.517578\" xlink:href=\"#DejaVuSans-67\"/>\r\n     <use x=\"275.341797\" xlink:href=\"#DejaVuSans-84\"/>\r\n     <use x=\"336.425781\" xlink:href=\"#DejaVuSans-73\"/>\r\n     <use x=\"365.917969\" xlink:href=\"#DejaVuSans-79\"/>\r\n     <use x=\"444.628906\" xlink:href=\"#DejaVuSans-78\"/>\r\n     <use x=\"519.433594\" xlink:href=\"#DejaVuSans-32\"/>\r\n     <use x=\"551.220703\" xlink:href=\"#DejaVuSans-50\"/>\r\n    </g>\r\n   </g>\r\n  </g>\r\n </g>\r\n <defs>\r\n  <clipPath id=\"p1ae6761aee\">\r\n   <rect height=\"245.4\" width=\"240.9875\" x=\"42.620313\" y=\"22.318125\"/>\r\n  </clipPath>\r\n  <clipPath id=\"paa592fccbc\">\r\n   <rect height=\"245.4\" width=\"240.9875\" x=\"325.220312\" y=\"22.318125\"/>\r\n  </clipPath>\r\n </defs>\r\n</svg>\r\n",
      "image/png": "[encoded data removed]"
     },
     "metadata": {}
    }
   ],
   "source": [
    "x = np.linspace(-5, 5, 100)\n",
    "y1 = f1(x)\n",
    "y2 = f2(x)\n",
    "\n",
    "fig, (ax1, ax2) = plt.subplots(1, 2, figsize=(8, 4))\n",
    "fig.tight_layout()\n",
    "ax1.plot(x, y1, color = 'dodgerblue', linewidth = 2)\n",
    "ax1.plot(z1, f1z1, marker = '^', color = 'dodgerblue', markersize = 8) # LOCAL MAXIMUM\n",
    "ax1.plot(z2, f1z2, marker = 'v', color = 'dodgerblue', markersize = 8) # LOCAL MINIMUM\n",
    "ax1.axhline(y = 0, color = 'gray', linewidth = 0.5)\n",
    "ax1.axvline(x = 0, color = 'gray', linewidth = 0.5)\n",
    "ax1.title.set_text('FUNCTION 1')\n",
    "ax1.set_xlabel('x')\n",
    "ax1.set_ylabel('f1(x)')\n",
    "ax1.set_ylim(-5, 5)\n",
    "\n",
    "ax2.plot(x, y2, color = 'lightcoral', linewidth = 2)\n",
    "ax2.plot(z, f2z, marker = 'v', color = 'lightcoral', markersize = 8) # LOCAL MINIMUM\n",
    "ax2.axhline(y = 0, color = 'gray', linewidth = 0.5)\n",
    "ax2.axvline(x = 0, color = 'gray', linewidth = 0.5)\n",
    "ax2.title.set_text('FUNCTION 2')\n",
    "ax2.set_xlabel('x')\n",
    "ax2.set_ylabel('f2(x)')\n",
    "ax2.set_ylim(-1, 1)"
   ]
  },
  {
   "source": [
    "### Exercise 2: Solving the Augmented Solow Growth Model"
   ],
   "cell_type": "markdown",
   "metadata": {}
  },
  {
   "source": [
    "#### Derive the analytic solution $x^*=(k^*,h^*)$ and compute its value for the given parametrization"
   ],
   "cell_type": "markdown",
   "metadata": {}
  },
  {
   "source": [
    "The changes in physical and human capital are given by\n",
    "\n",
    "$$\\tag{1}k_{t+1}=\\frac{1}{(1+n)(1+g)}\\biggr(s_kf(k_t,h_t)+(1-\\delta_k)k_t\\biggr)$$\n",
    "\n",
    "$$\\tag{2}h_{t+1}=\\frac{1}{(1+n)(1+g)}\\biggr(s_hf(k_t,h_t)+(1-\\delta_h)h_t\\biggr)$$\n",
    "\n",
    "The production function $f(k_t,h_t)$ is given by\n",
    "\n",
    "$$\\tag{3}f(k_t,h_t)=k_t^\\alpha h_t^\\beta$$\n",
    "\n",
    "where $s_k,s_h,\\delta_k,\\delta_h\\in[0,1]$\n",
    "\n",
    "The stationary solutions for physical and human capital $k^*,h^*$ are given by\n",
    "\n",
    "$$k_{t+1}=k_t=k\\quad h_{t+1}=h_t=h$$\n",
    "\n",
    "Hence, by plugging $(3)$ into $(1)$ and $(2)$ we obtain\n",
    "\n",
    "$$\\tag{4}s_kk^\\alpha h^\\beta-(\\delta_k+g+n+ng)k=0$$\n",
    "\n",
    "$$\\tag{5}s_hk^\\alpha h^\\beta-(\\delta_h+g+n+ng)h=0$$\n",
    "\n",
    "Consider $(4)$. By carrying over the second term over the equal sign, dividing both sides by $(\\delta_k+g+n+ng)$, then by $k^\\alpha$ and finally elevating to the power $\\frac{1}{1-\\alpha}$ we obtain physical capital as a function of human capital\n",
    "\n",
    "$$\\tag{6}k(h)=\\biggr(\\frac{s_kh^\\beta}{\\delta_k+n+g+ng}\\biggr)^{\\frac{1}{1-\\alpha}}$$\n",
    "\n",
    "Substituting $k$ in $(4)$ with $(6)$ and simplyfing yield $h^*$\n",
    "\n",
    "$$h^*=\\biggr(\\frac{s_h}{\\delta_h+n+g+ng}\\biggr)^{\\frac{1-\\alpha}{1-\\alpha-\\beta}}\\biggr(\\frac{s_k}{\\delta_k+n+g+ng}\\biggr)^{\\frac{\\alpha}{1-\\alpha-\\beta}}$$\n",
    "\n",
    "Plugging $h^*$ into $k(h)$ we obtain $k^*$\n",
    "\n",
    "$$k^*=\\biggr(\\frac{s_k}{\\delta_k+n+g+ng}\\biggr)^{\\frac{1-\\beta}{1-\\alpha-\\beta}}\\biggr(\\frac{s_h}{\\delta_h+n+g+ng}\\biggr)^{\\frac{\\beta}{1-\\alpha-\\beta}}$$\n",
    "\n",
    "At given parameters $k^*$ and $h^*$ equal\n",
    "\n",
    "$$k^*\\approx 5.77\\quad h^*\\approx 8.48$$"
   ],
   "cell_type": "markdown",
   "metadata": {}
  },
  {
   "source": [
    "#### Now assume the analytical solution is not available. Write a function that returns the function value and the Jacobian of the steady state condition"
   ],
   "cell_type": "markdown",
   "metadata": {}
  },
  {
   "source": [
    "##### Balanced growth path function of capital and its first derivative"
   ],
   "cell_type": "markdown",
   "metadata": {}
  },
  {
   "cell_type": "code",
   "execution_count": 421,
   "metadata": {},
   "outputs": [],
   "source": [
    "def fk(k, h, y, Sk, Dk, n, g):\n",
    "    \"\"\"\n",
    "    Balanced growth path of physical capital.\n",
    "\n",
    "    Arguments:\n",
    "    k - input physical capital\n",
    "    h - input human capital\n",
    "    y - input production function\n",
    "    Sk - savings rate of physical capital\n",
    "    Dk - depreciation rate of physical capital\n",
    "    n - popultaion growth rate\n",
    "    g - productivity growth rate\n",
    "\n",
    "    Returns:\n",
    "    fk - function value evaluated at (k, h) given y\n",
    "    \"\"\"\n",
    "    fk = Sk*y - (Dk + n + g + n*g)*k\n",
    "\n",
    "    return fk\n",
    "\n",
    "def dfk(k, h, dy, Sk, Dk, n, g):\n",
    "    \"\"\"\n",
    "    First derivative of balanced growth path of physical capital.\n",
    "\n",
    "    Arguments:\n",
    "    k - input physical capital\n",
    "    h - input human capital\n",
    "    dy - first derivative of input production function\n",
    "    Sk - savings rate of physical capital\n",
    "    Dk - depreciation rate of physical capital\n",
    "    n - popultaion growth rate\n",
    "    g - productivity growth rate\n",
    "\n",
    "    Returns:\n",
    "    dfk - first derivative value evaluated at (k, h) given dy\n",
    "\n",
    "    \"\"\"\n",
    "    dfk = Sk*dy - (Dk + n + g + n*g)\n",
    "\n",
    "    return dfk"
   ]
  },
  {
   "source": [
    "##### Balanced growth path function of human capital and its first derivative"
   ],
   "cell_type": "markdown",
   "metadata": {}
  },
  {
   "cell_type": "code",
   "execution_count": 422,
   "metadata": {},
   "outputs": [],
   "source": [
    "def fh(h, k, y, Sh, Dh, n, g):\n",
    "    \"\"\"\n",
    "    Balanced growth path of human capital.\n",
    "\n",
    "    Arguments:\n",
    "    h - input human capital\n",
    "    k - input physical capital\n",
    "    y - input production function\n",
    "    Sh - savings rate of human capital\n",
    "    Dh - depreciation rate of human capital\n",
    "    n - popultaion growth rate\n",
    "    g - productivity growth rate\n",
    "\n",
    "    Returns:\n",
    "    fh - function value evaluated at (k, h) given y\n",
    "    \"\"\"\n",
    "    fh = Sh*y - (Dh + n + g + n*g)*h\n",
    "\n",
    "    return fh\n",
    "\n",
    "def dfh(h, k, dy, Sh, Dh, n, g):\n",
    "    \"\"\"\n",
    "    First derivative of balanced growth path of human capital.\n",
    "\n",
    "    Arguments:\n",
    "    h - input human capital\n",
    "    k - input physical capital\n",
    "    dy - first derivative of input production function\n",
    "    Sk - savings rate of physical capital\n",
    "    Dk - depreciation rate of physical capital\n",
    "    n - popultaion growth rate\n",
    "    g - productivity growth rate\n",
    "\n",
    "    Returns:\n",
    "    dfh - first derivative value evaluated at (k, h) given dy\n",
    "\n",
    "    \"\"\"\n",
    "    dfh = Sh*dy - (Dh + n + g + n*g)\n",
    "\n",
    "    return dfh"
   ]
  },
  {
   "source": [
    "##### Production function and its first derivative"
   ],
   "cell_type": "markdown",
   "metadata": {}
  },
  {
   "cell_type": "code",
   "execution_count": 423,
   "metadata": {},
   "outputs": [],
   "source": [
    "def y(k, h, Ak, Ah):\n",
    "    \"\"\"\n",
    "    Intensive form of Cobb-Douglas production function.\n",
    "\n",
    "    Arguments:\n",
    "    k - input physical capital\n",
    "    h - input human capital\n",
    "    Ak - power of physical capital\n",
    "    Ah - power of human capital\n",
    "\n",
    "    Returns:\n",
    "    y - function value evaluated at (k, h)\n",
    "    \"\"\"\n",
    "    y = k**Ak*h**Ah\n",
    "\n",
    "    return y\n",
    "\n",
    "def dy(k, h, Ak, Ah, wrt):\n",
    "    \"\"\"\n",
    "    First derivative of intensive form of Cobb-Douglas production function.\n",
    "\n",
    "    Arguments:\n",
    "    k - input physical capital\n",
    "    h - input human capital\n",
    "    Ak - power of physical capital\n",
    "    Ah - power of human capital\n",
    "    wrt - with respect to what variable. Inputs are 'k' or 'h'\n",
    "\n",
    "    Returns:\n",
    "    dy - first derivative value evaluated at (k, h)\n",
    "    \"\"\"\n",
    "    if wrt == 'k':\n",
    "        dy = Ak*k**(Ak-1)*h**Ah\n",
    "    elif wrt == 'h':\n",
    "        dy = Ah*h**(Ah-1)*k**Ak\n",
    "    else:\n",
    "        print(\"wrt must be either 'k' or 'h'\")\n",
    "    \n",
    "    return dy"
   ]
  },
  {
   "source": [
    "##### System of nonlinear equations combined into a function"
   ],
   "cell_type": "markdown",
   "metadata": {}
  },
  {
   "cell_type": "code",
   "execution_count": 424,
   "metadata": {},
   "outputs": [],
   "source": [
    "Sk, Sh, n, g, Dk, Dh, z, Ak, Ah, k0, h0  = 0.2, 0.2, 0.01, 0.015, 0.1, 0.06, 1, 0.33, 0.33, 3, 3\n",
    "\n",
    "def solow(k, h, fk = fk, dfk = dfk, fh = fh, dfh = dfh, y = y, dy = dy, Sk = Sk, Sh = Sh, Dk = Dk, Dh = Dh, Ak = Ak, Ah = Ah, n = n, g = g):\n",
    "    \"\"\"\n",
    "    Returns function value and the Jacobian of the steady state condition.\n",
    "\n",
    "    Arguments:\n",
    "    k - input physical capital\n",
    "    h - input human capital\n",
    "    fk - balanced growth of physical capital function\n",
    "    fh - balanced growth of human capital function\n",
    "    dfk - first derivative of balanced growth function of physical capital\n",
    "    dfh - first derivative of balanced growth function of human capital\n",
    "    y - production function\n",
    "    dy - first derivative of production function\n",
    "    Sk - savings rate of physical capital\n",
    "    Sh - savings rate of human capital\n",
    "    Dk - depreciation rate of physical capital\n",
    "    Dh - depreciation rate of human capital\n",
    "    Ak - power of physical capital\n",
    "    Ah - power of human capital\n",
    "    n - popultaion growth rate\n",
    "    g - productivity growth rate\n",
    "    Returns:\n",
    "    x, dx - variables of function value and first derivative evaluated at (k, h)\n",
    "    \"\"\"\n",
    "    ry = y(k, h, Ak, Ah)\n",
    "    rk = fk(k, h, ry, Sk, Dk, n, g)\n",
    "    rh = fh(h, k, ry, Sh, Dh, n, g)\n",
    "\n",
    "    f = [rk, rh] # FUNCTION VALUE AT (k, h)\n",
    "\n",
    "    dryk = dy(k, h, Ak, Ah, wrt = 'k')\n",
    "    drk = dfk(k, h, dryk, Sk, Dk, n, g)\n",
    "    dryh = dy(h, k, Ak, Ah, wrt = 'h')\n",
    "    drh = dfh(h, k, dryh, Sh, Dh, n, g)\n",
    "\n",
    "    df = [drk, drh]\n",
    "\n",
    "    return f, df\n"
   ]
  },
  {
   "source": [
    "#### Program and use Newton's method for root-finding. Letting $\\hat{x}^*=(\\hat{k}^*,\\hat{h}^*)$ denote the approximate soluton, report $\\left|\\left|\\hat{x}^*-x^*\\right|\\right|_\\infty$. Increase the accuracy of your algorithm by setting stricter convergence criteria, again report $\\left|\\left|\\hat{x}^*-x^*\\right|\\right|_\\infty$ and compare"
   ],
   "cell_type": "markdown",
   "metadata": {}
  },
  {
   "cell_type": "code",
   "execution_count": 425,
   "metadata": {},
   "outputs": [],
   "source": [
    "def xStar(Sk = Sk, Sh = Sh, Dk = Dk, Dh = Dh, Ak = Ak, Ah = Ah, n = n, g = g):\n",
    "    \"\"\"\n",
    "    Calculate x* using the analytical solutions.\n",
    "\n",
    "    Arguments:\n",
    "    Sk - savings rate of physical capital\n",
    "    Sh - savings rate of human capital\n",
    "    Dk - depreciation rate of physical capital\n",
    "    Dh - depreciation rate of human capital\n",
    "    Ak - power of physical capital\n",
    "    Ah - power of human capital\n",
    "    n - popultaion growth rate\n",
    "    g - productivity growth rate\n",
    "\n",
    "    Returns:\n",
    "    xstar - analytical solution such that f(xstar) = 0\n",
    "    \"\"\"\n",
    "    kstar = (Sk/(Dk + n + g + n*g))**((1-Ah)/(1-Ak-Ah))*(Sh/(Dh + n + g + n*g))**(Ah/(1-Ak-Ah))\n",
    "    hstar = (Sh/(Dh + n + g + n*g))**((1-Ak)/(1-Ak-Ah))*(Sk/(Dk + n + g + n*g))**(Ak/(1-Ak-Ah))\n",
    "    xstar = [kstar, hstar]\n",
    "\n",
    "    return xstar"
   ]
  },
  {
   "cell_type": "code",
   "execution_count": 426,
   "metadata": {},
   "outputs": [],
   "source": [
    "def newton(epsilon, delta, k0 = 3, h0 = 3, maxiter = 1000):\n",
    "    \"\"\"\n",
    "    Newton method to solve the Solow augmented model.\n",
    "\n",
    "    Arguments:\n",
    "    k0 - initial guess of physical capital\n",
    "    h0 - initial guess of human capital\n",
    "    epsilon - tolerance of distance between previous and current state\n",
    "    delta - tolerance of value function\n",
    "    maxiter - maximum number of iterations\n",
    "\n",
    "    Returns:\n",
    "    (if successful):\n",
    "        iter, xhat - iteration number and current state such that f(xHat) = 0\n",
    "    (if not successful):\n",
    "        iter, x1 - iteration number and last iterate\n",
    "    \"\"\"\n",
    "    x0 = [k0, h0]\n",
    "\n",
    "    for iter in range(maxiter):\n",
    "        f0, df0 = solow(k = x0[0], h = x0[1])\n",
    "        x1 = x0 - np.divide(f0, df0)\n",
    "\n",
    "        d = np.linalg.norm(x1)\n",
    "        D = np.linalg.norm(x1 - x0)\n",
    "        fd = np.linalg.norm(f0)\n",
    "\n",
    "        if D <= epsilon * (1 + d) and fd <= delta:\n",
    "            xhat = x1\n",
    "            return iter, xhat\n",
    "\n",
    "        else:\n",
    "            x0 = x1\n",
    "\n",
    "    print('maxiter reached')\n",
    "    return iter, x1\n"
   ]
  },
  {
   "cell_type": "code",
   "execution_count": 427,
   "metadata": {},
   "outputs": [
    {
     "output_type": "stream",
     "name": "stdout",
     "text": [
      "\nxstar is [5.77, 8.48]\n\nsup-norm between xstar and xhat=[3.47, 6.97] for epsilon=delta=1.0: 2.2989\nsup-norm between xstar and xhat=[5.86, 8.07] for epsilon=delta=0.1: 0.4076\nsup-norm between xstar and xhat=[5.77, 8.48] for epsilon=delta=0.0001: 0.0003\n"
     ]
    }
   ],
   "source": [
    "xstar = xStar()\n",
    "tolerances = [[10e-1, 10e-1], [10e-2, 10e-2] , [10e-5, 10e-5]]\n",
    "\n",
    "# LOG TIME PASSED\n",
    "t0 = time.clock()\n",
    "iterN, xhat = newton(epsilon = 10e-5, delta = 10e-5)\n",
    "t1 = time.clock()\n",
    "tN = t1 - t0 # IN SECONDS\n",
    "\n",
    "print('\\nxstar is [{:.2f}, {:.2f}]\\n'.format(xstar[0], xstar[1]))\n",
    "for tolerance in range(len(tolerances)):\n",
    "    iterN, xhat = newton(epsilon = tolerances[tolerance][0], delta = tolerances[tolerance][1])\n",
    "    D = np.linalg.norm(xstar - xhat, ord = np.inf)\n",
    "    print('sup-norm between xstar and xhat=[{:.2f}, {:.2f}] for epsilon=delta={}: {:.4f}'.format(xhat[0], xhat[1], tolerances[tolerance][0], D))"
   ]
  },
  {
   "source": [
    "#### Program and use the Broyden method for root-finding. Use the identity matrix as the initial guess for the Jacobian"
   ],
   "cell_type": "markdown",
   "metadata": {}
  },
  {
   "cell_type": "code",
   "execution_count": 428,
   "metadata": {},
   "outputs": [],
   "source": [
    "def broyden(k0, h0, j0, epsilon = 10e-5, delta = 10e-5, maxiter = 1000):\n",
    "    \"\"\"\n",
    "    Broyden aka Quasi-Newton method to solve the Solow augmented model.\n",
    "\n",
    "    Arguments:\n",
    "    k0 - initial guess of physical capital\n",
    "    h0 - initial guess of human capital\n",
    "    j0 - initial guess of approximate Jacobian\n",
    "    epsilon - tolerance of distance between previous and current state\n",
    "    delta - tolerance of value function\n",
    "    maxiter - maximum number of iterations\n",
    "\n",
    "    Returns:\n",
    "    (if successful):\n",
    "        iter, xhat - iteration number and current state such that f(xHat) = 0\n",
    "    (if not successful):\n",
    "        iter, x1 - iteration number and last iterate\n",
    "    \"\"\"\n",
    "    x0 = np.array([k0, h0])\n",
    "\n",
    "    for iter in range(maxiter):\n",
    "        f0, _ = np.array(solow(k = x0[0], h = x0[1]))\n",
    "        x1 = x0 - np.dot(np.linalg.inv(j0), f0) # NEXT ITERATE\n",
    "\n",
    "        # NEXT JACOBIAN\n",
    "        f1, _ = np.array(solow(k = x1[0], h = x1[1]))\n",
    "        deltaf = f1 - f0\n",
    "        deltax = x1 - x0\n",
    "        deltaf = deltaf.reshape(len(deltaf), -1) # RESHAPE TO (2,1)\n",
    "        deltax = deltax.reshape(len(deltax), -1) # RESHAPE TO (2,1)\n",
    "        j1 = j0 + (np.dot(deltaf - np.dot(j0, deltax), deltax.T))/(np.dot(deltax.T, deltax))\n",
    "\n",
    "        D = np.linalg.norm(x1 - x0)\n",
    "        d = np.linalg.norm(x1)\n",
    "        fd = np.linalg.norm(f1)\n",
    "\n",
    "        if D <= epsilon * (1 + d) and fd <= delta:\n",
    "            xhat = x1\n",
    "            \n",
    "            return iter, xhat\n",
    "        else:\n",
    "            x0 = x1\n",
    "            j0 = j1\n",
    "        \n",
    "    print('maxiter reached.')\n",
    "    \n",
    "    return iter, x1\n",
    "\n"
   ]
  },
  {
   "cell_type": "code",
   "execution_count": 429,
   "metadata": {},
   "outputs": [
    {
     "output_type": "stream",
     "name": "stdout",
     "text": [
      "\nQuasi-Newton method statistics:\nepsilon=delta=10e-5\nconverged at iteration 19\nkhat=5.77 and hhat=8.48\n"
     ]
    }
   ],
   "source": [
    "j0 = np.identity(2) # IDENTITY MATRIX OF SHAPE (2,2)\n",
    "t0 = time.clock()\n",
    "iterB, xhat = broyden(k0 = 3, h0 = 3, j0 = j0)\n",
    "t1 = time.clock()\n",
    "tB = t1 - t0\n",
    "\n",
    "print(\"\\nQuasi-Newton method statistics:\\nepsilon=delta=10e-5\\nconverged at iteration {}\\nkhat={:.2f} and hhat={:.2f}\".format(iterB, xhat[0], xhat[1]))"
   ]
  },
  {
   "source": [
    "#### Program and use the Inverse Broyden method for root-finding. Use the identity matrix as the initial guess for the Jacobian"
   ],
   "cell_type": "markdown",
   "metadata": {}
  },
  {
   "cell_type": "code",
   "execution_count": 430,
   "metadata": {},
   "outputs": [],
   "source": [
    "def inverseBroyden(k0, h0, b0, epsilon = 10e-5, delta = 10e-5, maxiter = 1000):\n",
    "    \"\"\"\n",
    "    Inverse Broyden method to solve the Solow augmented model.\n",
    "\n",
    "    Arguments:\n",
    "    k0 - initial guess of physical capital\n",
    "    h0 - initial guess of human capital\n",
    "    b0 - initial guess of the inverse of approximate Jacobian\n",
    "    epsilon - tolerance of distance between previous and current state\n",
    "    delta - tolerance of value function\n",
    "    maxiter - maximum number of iterations\n",
    "\n",
    "    Returns:\n",
    "    (if successful):\n",
    "        iter, xhat - iteration number and current state such that f(xHat) = 0\n",
    "    (if not successful):\n",
    "        iter, x1 - iteration number and last iterate\n",
    "    \"\"\"\n",
    "    x0 = np.array([k0, h0])\n",
    "\n",
    "    for iter in range(maxiter):\n",
    "        f0, _ = np.array(solow(k = x0[0], h = x0[1]))\n",
    "        x1 = x0 - np.dot(b0, f0) # NEXT ITERATE\n",
    "\n",
    "        # NEXT JACOBIAN\n",
    "        f1, _ = np.array(solow(k = x1[0], h = x1[1]))\n",
    "        deltaf = f1 - f0\n",
    "        deltax = x1 - x0\n",
    "        deltaf = deltaf.reshape(len(deltaf), -1) # RESHAPE TO (2,1)\n",
    "        deltax = deltax.reshape(len(deltax), -1) # RESHAPE TO (2,1)\n",
    "        b1 = b0 + np.dot(np.dot(deltax - np.dot(b0, deltaf), deltax.T), b0)/np.dot(np.dot(deltax.T, b0), deltaf)\n",
    "\n",
    "        D = np.linalg.norm(x1 - x0)\n",
    "        d = np.linalg.norm(x1)\n",
    "        fd = np.linalg.norm(f1)\n",
    "\n",
    "        if D <= epsilon * (1 + d) and fd <= delta:\n",
    "            xhat = x1\n",
    "            \n",
    "            return iter, xhat\n",
    "        else:\n",
    "            x0 = x1\n",
    "            b0 = b1\n",
    "        \n",
    "    print('maxiter reached.')\n",
    "    \n",
    "    return iter, x1\n",
    "    "
   ]
  },
  {
   "cell_type": "code",
   "execution_count": 431,
   "metadata": {},
   "outputs": [
    {
     "output_type": "stream",
     "name": "stdout",
     "text": [
      "\nInverse Broyden method statistics:\nepsilon=delta=10e-5\nconverged at iteration 19\nkhat=5.77 and hhat=8.48\n"
     ]
    }
   ],
   "source": [
    "b0 = np.linalg.inv(np.identity(2)) # INVERSE OF IDENTITY MATRIX OF SHAPE (2,2)\n",
    "t0 = time.clock()\n",
    "iterIB, xhat = inverseBroyden(k0 = 3, h0 = 3, b0 = b0)\n",
    "t1 = time.clock()\n",
    "tIB = t1 - t0\n",
    "\n",
    "print(\"\\nInverse Broyden method statistics:\\nepsilon=delta=10e-5\\nconverged at iteration {}\\nkhat={:.2f} and hhat={:.2f}\".format(iterIB, xhat[0], xhat[1]))"
   ]
  },
  {
   "source": [
    "#### Program and use a fixed-point iteration. Save all results from the iteration steps. Display a plot showing the resutls for $k$ over the iterations along with a horizontal line showing at the value of $k^*$. Doe the same for $h$. Provide an economic interpretation of the plots"
   ],
   "cell_type": "markdown",
   "metadata": {}
  },
  {
   "cell_type": "code",
   "execution_count": 432,
   "metadata": {},
   "outputs": [],
   "source": [
    "def Fkh(k, h, y = y, Sk = Sk, Dk = Dk, Sh = Sh, Dh = Dh, Ak = Ak, Ah = Ah, n = n, g = g):\n",
    "    \"\"\"\n",
    "    Intensive form of functions of physical and human capital.\n",
    "\n",
    "    Arguments:\n",
    "    k - input physical capital\n",
    "    h - input human capital\n",
    "    y - input production function\n",
    "    Sk - savings rate of physical capital\n",
    "    Dk - depreciation rate of physical capital\n",
    "    Sh - savings rate of human capital\n",
    "    Dh - depreciation rate of human capital\n",
    "    Ak - power of physical capital\n",
    "    Ah - power of human capital\n",
    "    n - popultaion growth rate\n",
    "    g - productivity growth rate\n",
    "\n",
    "    Returns:\n",
    "    Fk, Fh - function values evaluated at (k, h) given y\n",
    "    \"\"\"\n",
    "    Y = y(k, h, Ak, Ah)\n",
    "    Fk = 1/((1 + n)*(1 + g))*(Sk*Y + (1 - Dk)*k)\n",
    "    Fh = 1/((1 + n)*(1 + g))*(Sh*Y + (1 - Dh)*h)\n",
    "\n",
    "    return [Fk, Fh]"
   ]
  },
  {
   "cell_type": "code",
   "execution_count": 433,
   "metadata": {},
   "outputs": [],
   "source": [
    "def fixedPoint(k0, h0, epsilon = 10e-5, delta = 10e-5, maxiter = 1000):\n",
    "    \"\"\"\n",
    "    Fixed point iterative method to solve the Solow augmented model.\n",
    "\n",
    "    Arguments:\n",
    "    k0 - initial guess of physical capital\n",
    "    h0 - initial guess of human capital\n",
    "    epsilon - tolerance of distance between previous and current state\n",
    "    delta - tolerance of value function\n",
    "    maxiter - maximum number of iterations\n",
    "\n",
    "    Returns:\n",
    "    (if successful):\n",
    "       iter, xhat, history - iteration number, current state such that f(xHat) = xHat and history of states\n",
    "    (if not successful):\n",
    "        iter, x1 - iteration number, last iterate and history of states\n",
    "    \"\"\"\n",
    "    history = [[], []]\n",
    "    x0 = np.array([k0, h0])\n",
    "    history[0].append(x0[0])\n",
    "    history[1].append(x0[1])\n",
    "    \n",
    "    for iter in range(maxiter):\n",
    "        x1 = np.array(Fkh(k = x0[0], h = x0[1]))\n",
    "\n",
    "        D = np.linalg.norm(x0 - x1)\n",
    "        d = np.linalg.norm(x1)\n",
    "\n",
    "        history[0].append(x1[0])\n",
    "        history[1].append(x1[1])\n",
    "\n",
    "        if D <= epsilon * (1 + d):\n",
    "            return iter, x1, history\n",
    "        else:\n",
    "            x0 = x1\n",
    "    \n",
    "    print('maxiter reached.')\n",
    "    return iter, fx0, history"
   ]
  },
  {
   "cell_type": "code",
   "execution_count": 434,
   "metadata": {},
   "outputs": [
    {
     "output_type": "stream",
     "name": "stdout",
     "text": [
      "\nFixed point method statistics:\nepsilon=delta=10e-5\nconverged at iteration 163\nkhat=5.75 and hhat=8.45\n"
     ]
    }
   ],
   "source": [
    "t0 = time.clock()\n",
    "iterFP, xhat, history = fixedPoint(k0 = 3, h0 = 3)\n",
    "t1 = time.clock()\n",
    "tFP = t1 - t0\n",
    "\n",
    "print(\"\\nFixed point method statistics:\\nepsilon=delta=10e-5\\nconverged at iteration {}\\nkhat={:.2f} and hhat={:.2f}\".format(iterFP, xhat[0], xhat[1]))"
   ]
  },
  {
   "cell_type": "code",
   "execution_count": 435,
   "metadata": {},
   "outputs": [
    {
     "output_type": "execute_result",
     "data": {
      "text/plain": [
       "Text(288.61590909090904, 0.5, 'h')"
      ]
     },
     "metadata": {},
     "execution_count": 435
    },
    {
     "output_type": "display_data",
     "data": {
      "text/plain": "<Figure size 576x288 with 2 Axes>",
      "image/svg+xml": "<?xml version=\"1.0\" encoding=\"utf-8\" standalone=\"no\"?>\r\n<!DOCTYPE svg PUBLIC \"-//W3C//DTD SVG 1.1//EN\"\r\n  \"http://www.w3.org/Graphics/SVG/1.1/DTD/svg11.dtd\">\r\n<!-- Created with matplotlib (https://matplotlib.org/) -->\r\n<svg height=\"305.274375pt\" version=\"1.1\" viewBox=\"0 0 574.56875 305.274375\" width=\"574.56875pt\" xmlns=\"http://www.w3.org/2000/svg\" xmlns:xlink=\"http://www.w3.org/1999/xlink\">\r\n <metadata>\r\n  <rdf:RDF xmlns:cc=\"http://creativecommons.org/ns#\" xmlns:dc=\"http://purl.org/dc/elements/1.1/\" xmlns:rdf=\"http://www.w3.org/1999/02/22-rdf-syntax-ns#\">\r\n   <cc:Work>\r\n    <dc:type rdf:resource=\"http://purl.org/dc/dcmitype/StillImage\"/>\r\n    <dc:date>2021-02-09T20:26:18.990254</dc:date>\r\n    <dc:format>image/svg+xml</dc:format>\r\n    <dc:creator>\r\n     <cc:Agent>\r\n      <dc:title>Matplotlib v3.3.3, https://matplotlib.org/</dc:title>\r\n     </cc:Agent>\r\n    </dc:creator>\r\n   </cc:Work>\r\n  </rdf:RDF>\r\n </metadata>\r\n <defs>\r\n  <style type=\"text/css\">*{stroke-linecap:butt;stroke-linejoin:round;}</style>\r\n </defs>\r\n <g id=\"figure_1\">\r\n  <g id=\"patch_1\">\r\n   <path d=\"M 0 305.274375 \r\nL 574.56875 305.274375 \r\nL 574.56875 0 \r\nL 0 0 \r\nz\r\n\"/>\r\n  </g>\r\n  <g id=\"axes_1\">\r\n   <g id=\"patch_2\">\r\n    <path d=\"M 43.78125 267.718125 \r\nL 284.76875 267.718125 \r\nL 284.76875 22.318125 \r\nL 43.78125 22.318125 \r\nz\r\n\"/>\r\n   </g>\r\n   <g id=\"matplotlib.axis_1\">\r\n    <g id=\"xtick_1\">\r\n     <g id=\"line2d_1\">\r\n      <defs>\r\n       <path d=\"M 0 0 \r\nL 0 3.5 \r\n\" id=\"maea22e7029\" style=\"stroke:#ffffff;stroke-width:0.8;\"/>\r\n      </defs>\r\n      <g>\r\n       <use style=\"fill:#ffffff;stroke:#ffffff;stroke-width:0.8;\" x=\"54.735227\" xlink:href=\"#maea22e7029\" y=\"267.718125\"/>\r\n      </g>\r\n     </g>\r\n     <g id=\"text_1\">\r\n      <!-- 0 -->\r\n      <g style=\"fill:#ffffff;\" transform=\"translate(51.553977 282.316563)scale(0.1 -0.1)\">\r\n       <defs>\r\n        <path d=\"M 31.78125 66.40625 \r\nQ 24.171875 66.40625 20.328125 58.90625 \r\nQ 16.5 51.421875 16.5 36.375 \r\nQ 16.5 21.390625 20.328125 13.890625 \r\nQ 24.171875 6.390625 31.78125 6.390625 \r\nQ 39.453125 6.390625 43.28125 13.890625 \r\nQ 47.125 21.390625 47.125 36.375 \r\nQ 47.125 51.421875 43.28125 58.90625 \r\nQ 39.453125 66.40625 31.78125 66.40625 \r\nz\r\nM 31.78125 74.21875 \r\nQ 44.046875 74.21875 50.515625 64.515625 \r\nQ 56.984375 54.828125 56.984375 36.375 \r\nQ 56.984375 17.96875 50.515625 8.265625 \r\nQ 44.046875 -1.421875 31.78125 -1.421875 \r\nQ 19.53125 -1.421875 13.0625 8.265625 \r\nQ 6.59375 17.96875 6.59375 36.375 \r\nQ 6.59375 54.828125 13.0625 64.515625 \r\nQ 19.53125 74.21875 31.78125 74.21875 \r\nz\r\n\" id=\"DejaVuSans-48\"/>\r\n       </defs>\r\n       <use xlink:href=\"#DejaVuSans-48\"/>\r\n      </g>\r\n     </g>\r\n    </g>\r\n    <g id=\"xtick_2\">\r\n     <g id=\"line2d_2\">\r\n      <g>\r\n       <use style=\"fill:#ffffff;stroke:#ffffff;stroke-width:0.8;\" x=\"87.929098\" xlink:href=\"#maea22e7029\" y=\"267.718125\"/>\r\n      </g>\r\n     </g>\r\n     <g id=\"text_2\">\r\n      <!-- 25 -->\r\n      <g style=\"fill:#ffffff;\" transform=\"translate(81.566598 282.316563)scale(0.1 -0.1)\">\r\n       <defs>\r\n        <path d=\"M 19.1875 8.296875 \r\nL 53.609375 8.296875 \r\nL 53.609375 0 \r\nL 7.328125 0 \r\nL 7.328125 8.296875 \r\nQ 12.9375 14.109375 22.625 23.890625 \r\nQ 32.328125 33.6875 34.8125 36.53125 \r\nQ 39.546875 41.84375 41.421875 45.53125 \r\nQ 43.3125 49.21875 43.3125 52.78125 \r\nQ 43.3125 58.59375 39.234375 62.25 \r\nQ 35.15625 65.921875 28.609375 65.921875 \r\nQ 23.96875 65.921875 18.8125 64.3125 \r\nQ 13.671875 62.703125 7.8125 59.421875 \r\nL 7.8125 69.390625 \r\nQ 13.765625 71.78125 18.9375 73 \r\nQ 24.125 74.21875 28.421875 74.21875 \r\nQ 39.75 74.21875 46.484375 68.546875 \r\nQ 53.21875 62.890625 53.21875 53.421875 \r\nQ 53.21875 48.921875 51.53125 44.890625 \r\nQ 49.859375 40.875 45.40625 35.40625 \r\nQ 44.1875 33.984375 37.640625 27.21875 \r\nQ 31.109375 20.453125 19.1875 8.296875 \r\nz\r\n\" id=\"DejaVuSans-50\"/>\r\n        <path d=\"M 10.796875 72.90625 \r\nL 49.515625 72.90625 \r\nL 49.515625 64.59375 \r\nL 19.828125 64.59375 \r\nL 19.828125 46.734375 \r\nQ 21.96875 47.46875 24.109375 47.828125 \r\nQ 26.265625 48.1875 28.421875 48.1875 \r\nQ 40.625 48.1875 47.75 41.5 \r\nQ 54.890625 34.8125 54.890625 23.390625 \r\nQ 54.890625 11.625 47.5625 5.09375 \r\nQ 40.234375 -1.421875 26.90625 -1.421875 \r\nQ 22.3125 -1.421875 17.546875 -0.640625 \r\nQ 12.796875 0.140625 7.71875 1.703125 \r\nL 7.71875 11.625 \r\nQ 12.109375 9.234375 16.796875 8.0625 \r\nQ 21.484375 6.890625 26.703125 6.890625 \r\nQ 35.15625 6.890625 40.078125 11.328125 \r\nQ 45.015625 15.765625 45.015625 23.390625 \r\nQ 45.015625 31 40.078125 35.4375 \r\nQ 35.15625 39.890625 26.703125 39.890625 \r\nQ 22.75 39.890625 18.8125 39.015625 \r\nQ 14.890625 38.140625 10.796875 36.28125 \r\nz\r\n\" id=\"DejaVuSans-53\"/>\r\n       </defs>\r\n       <use xlink:href=\"#DejaVuSans-50\"/>\r\n       <use x=\"63.623047\" xlink:href=\"#DejaVuSans-53\"/>\r\n      </g>\r\n     </g>\r\n    </g>\r\n    <g id=\"xtick_3\">\r\n     <g id=\"line2d_3\">\r\n      <g>\r\n       <use style=\"fill:#ffffff;stroke:#ffffff;stroke-width:0.8;\" x=\"121.122968\" xlink:href=\"#maea22e7029\" y=\"267.718125\"/>\r\n      </g>\r\n     </g>\r\n     <g id=\"text_3\">\r\n      <!-- 50 -->\r\n      <g style=\"fill:#ffffff;\" transform=\"translate(114.760468 282.316563)scale(0.1 -0.1)\">\r\n       <use xlink:href=\"#DejaVuSans-53\"/>\r\n       <use x=\"63.623047\" xlink:href=\"#DejaVuSans-48\"/>\r\n      </g>\r\n     </g>\r\n    </g>\r\n    <g id=\"xtick_4\">\r\n     <g id=\"line2d_4\">\r\n      <g>\r\n       <use style=\"fill:#ffffff;stroke:#ffffff;stroke-width:0.8;\" x=\"154.316839\" xlink:href=\"#maea22e7029\" y=\"267.718125\"/>\r\n      </g>\r\n     </g>\r\n     <g id=\"text_4\">\r\n      <!-- 75 -->\r\n      <g style=\"fill:#ffffff;\" transform=\"translate(147.954339 282.316563)scale(0.1 -0.1)\">\r\n       <defs>\r\n        <path d=\"M 8.203125 72.90625 \r\nL 55.078125 72.90625 \r\nL 55.078125 68.703125 \r\nL 28.609375 0 \r\nL 18.3125 0 \r\nL 43.21875 64.59375 \r\nL 8.203125 64.59375 \r\nz\r\n\" id=\"DejaVuSans-55\"/>\r\n       </defs>\r\n       <use xlink:href=\"#DejaVuSans-55\"/>\r\n       <use x=\"63.623047\" xlink:href=\"#DejaVuSans-53\"/>\r\n      </g>\r\n     </g>\r\n    </g>\r\n    <g id=\"xtick_5\">\r\n     <g id=\"line2d_5\">\r\n      <g>\r\n       <use style=\"fill:#ffffff;stroke:#ffffff;stroke-width:0.8;\" x=\"187.510709\" xlink:href=\"#maea22e7029\" y=\"267.718125\"/>\r\n      </g>\r\n     </g>\r\n     <g id=\"text_5\">\r\n      <!-- 100 -->\r\n      <g style=\"fill:#ffffff;\" transform=\"translate(177.966959 282.316563)scale(0.1 -0.1)\">\r\n       <defs>\r\n        <path d=\"M 12.40625 8.296875 \r\nL 28.515625 8.296875 \r\nL 28.515625 63.921875 \r\nL 10.984375 60.40625 \r\nL 10.984375 69.390625 \r\nL 28.421875 72.90625 \r\nL 38.28125 72.90625 \r\nL 38.28125 8.296875 \r\nL 54.390625 8.296875 \r\nL 54.390625 0 \r\nL 12.40625 0 \r\nz\r\n\" id=\"DejaVuSans-49\"/>\r\n       </defs>\r\n       <use xlink:href=\"#DejaVuSans-49\"/>\r\n       <use x=\"63.623047\" xlink:href=\"#DejaVuSans-48\"/>\r\n       <use x=\"127.246094\" xlink:href=\"#DejaVuSans-48\"/>\r\n      </g>\r\n     </g>\r\n    </g>\r\n    <g id=\"xtick_6\">\r\n     <g id=\"line2d_6\">\r\n      <g>\r\n       <use style=\"fill:#ffffff;stroke:#ffffff;stroke-width:0.8;\" x=\"220.70458\" xlink:href=\"#maea22e7029\" y=\"267.718125\"/>\r\n      </g>\r\n     </g>\r\n     <g id=\"text_6\">\r\n      <!-- 125 -->\r\n      <g style=\"fill:#ffffff;\" transform=\"translate(211.16083 282.316563)scale(0.1 -0.1)\">\r\n       <use xlink:href=\"#DejaVuSans-49\"/>\r\n       <use x=\"63.623047\" xlink:href=\"#DejaVuSans-50\"/>\r\n       <use x=\"127.246094\" xlink:href=\"#DejaVuSans-53\"/>\r\n      </g>\r\n     </g>\r\n    </g>\r\n    <g id=\"xtick_7\">\r\n     <g id=\"line2d_7\">\r\n      <g>\r\n       <use style=\"fill:#ffffff;stroke:#ffffff;stroke-width:0.8;\" x=\"253.89845\" xlink:href=\"#maea22e7029\" y=\"267.718125\"/>\r\n      </g>\r\n     </g>\r\n     <g id=\"text_7\">\r\n      <!-- 150 -->\r\n      <g style=\"fill:#ffffff;\" transform=\"translate(244.3547 282.316563)scale(0.1 -0.1)\">\r\n       <use xlink:href=\"#DejaVuSans-49\"/>\r\n       <use x=\"63.623047\" xlink:href=\"#DejaVuSans-53\"/>\r\n       <use x=\"127.246094\" xlink:href=\"#DejaVuSans-48\"/>\r\n      </g>\r\n     </g>\r\n    </g>\r\n    <g id=\"text_8\">\r\n     <!-- iter -->\r\n     <g style=\"fill:#ffffff;\" transform=\"translate(155.79375 295.994687)scale(0.1 -0.1)\">\r\n      <defs>\r\n       <path d=\"M 9.421875 54.6875 \r\nL 18.40625 54.6875 \r\nL 18.40625 0 \r\nL 9.421875 0 \r\nz\r\nM 9.421875 75.984375 \r\nL 18.40625 75.984375 \r\nL 18.40625 64.59375 \r\nL 9.421875 64.59375 \r\nz\r\n\" id=\"DejaVuSans-105\"/>\r\n       <path d=\"M 18.3125 70.21875 \r\nL 18.3125 54.6875 \r\nL 36.8125 54.6875 \r\nL 36.8125 47.703125 \r\nL 18.3125 47.703125 \r\nL 18.3125 18.015625 \r\nQ 18.3125 11.328125 20.140625 9.421875 \r\nQ 21.96875 7.515625 27.59375 7.515625 \r\nL 36.8125 7.515625 \r\nL 36.8125 0 \r\nL 27.59375 0 \r\nQ 17.1875 0 13.234375 3.875 \r\nQ 9.28125 7.765625 9.28125 18.015625 \r\nL 9.28125 47.703125 \r\nL 2.6875 47.703125 \r\nL 2.6875 54.6875 \r\nL 9.28125 54.6875 \r\nL 9.28125 70.21875 \r\nz\r\n\" id=\"DejaVuSans-116\"/>\r\n       <path d=\"M 56.203125 29.59375 \r\nL 56.203125 25.203125 \r\nL 14.890625 25.203125 \r\nQ 15.484375 15.921875 20.484375 11.0625 \r\nQ 25.484375 6.203125 34.421875 6.203125 \r\nQ 39.59375 6.203125 44.453125 7.46875 \r\nQ 49.3125 8.734375 54.109375 11.28125 \r\nL 54.109375 2.78125 \r\nQ 49.265625 0.734375 44.1875 -0.34375 \r\nQ 39.109375 -1.421875 33.890625 -1.421875 \r\nQ 20.796875 -1.421875 13.15625 6.1875 \r\nQ 5.515625 13.8125 5.515625 26.8125 \r\nQ 5.515625 40.234375 12.765625 48.109375 \r\nQ 20.015625 56 32.328125 56 \r\nQ 43.359375 56 49.78125 48.890625 \r\nQ 56.203125 41.796875 56.203125 29.59375 \r\nz\r\nM 47.21875 32.234375 \r\nQ 47.125 39.59375 43.09375 43.984375 \r\nQ 39.0625 48.390625 32.421875 48.390625 \r\nQ 24.90625 48.390625 20.390625 44.140625 \r\nQ 15.875 39.890625 15.1875 32.171875 \r\nz\r\n\" id=\"DejaVuSans-101\"/>\r\n       <path d=\"M 41.109375 46.296875 \r\nQ 39.59375 47.171875 37.8125 47.578125 \r\nQ 36.03125 48 33.890625 48 \r\nQ 26.265625 48 22.1875 43.046875 \r\nQ 18.109375 38.09375 18.109375 28.8125 \r\nL 18.109375 0 \r\nL 9.078125 0 \r\nL 9.078125 54.6875 \r\nL 18.109375 54.6875 \r\nL 18.109375 46.1875 \r\nQ 20.953125 51.171875 25.484375 53.578125 \r\nQ 30.03125 56 36.53125 56 \r\nQ 37.453125 56 38.578125 55.875 \r\nQ 39.703125 55.765625 41.0625 55.515625 \r\nz\r\n\" id=\"DejaVuSans-114\"/>\r\n      </defs>\r\n      <use xlink:href=\"#DejaVuSans-105\"/>\r\n      <use x=\"27.783203\" xlink:href=\"#DejaVuSans-116\"/>\r\n      <use x=\"66.992188\" xlink:href=\"#DejaVuSans-101\"/>\r\n      <use x=\"128.515625\" xlink:href=\"#DejaVuSans-114\"/>\r\n     </g>\r\n    </g>\r\n   </g>\r\n   <g id=\"matplotlib.axis_2\">\r\n    <g id=\"ytick_1\">\r\n     <g id=\"line2d_8\">\r\n      <defs>\r\n       <path d=\"M 0 0 \r\nL -3.5 0 \r\n\" id=\"mc5112ac647\" style=\"stroke:#ffffff;stroke-width:0.8;\"/>\r\n      </defs>\r\n      <g>\r\n       <use style=\"fill:#ffffff;stroke:#ffffff;stroke-width:0.8;\" x=\"43.78125\" xlink:href=\"#mc5112ac647\" y=\"256.56358\"/>\r\n      </g>\r\n     </g>\r\n     <g id=\"text_9\">\r\n      <!-- 3.0 -->\r\n      <g style=\"fill:#ffffff;\" transform=\"translate(20.878125 260.362798)scale(0.1 -0.1)\">\r\n       <defs>\r\n        <path d=\"M 40.578125 39.3125 \r\nQ 47.65625 37.796875 51.625 33 \r\nQ 55.609375 28.21875 55.609375 21.1875 \r\nQ 55.609375 10.40625 48.1875 4.484375 \r\nQ 40.765625 -1.421875 27.09375 -1.421875 \r\nQ 22.515625 -1.421875 17.65625 -0.515625 \r\nQ 12.796875 0.390625 7.625 2.203125 \r\nL 7.625 11.71875 \r\nQ 11.71875 9.328125 16.59375 8.109375 \r\nQ 21.484375 6.890625 26.8125 6.890625 \r\nQ 36.078125 6.890625 40.9375 10.546875 \r\nQ 45.796875 14.203125 45.796875 21.1875 \r\nQ 45.796875 27.640625 41.28125 31.265625 \r\nQ 36.765625 34.90625 28.71875 34.90625 \r\nL 20.21875 34.90625 \r\nL 20.21875 43.015625 \r\nL 29.109375 43.015625 \r\nQ 36.375 43.015625 40.234375 45.921875 \r\nQ 44.09375 48.828125 44.09375 54.296875 \r\nQ 44.09375 59.90625 40.109375 62.90625 \r\nQ 36.140625 65.921875 28.71875 65.921875 \r\nQ 24.65625 65.921875 20.015625 65.03125 \r\nQ 15.375 64.15625 9.8125 62.3125 \r\nL 9.8125 71.09375 \r\nQ 15.4375 72.65625 20.34375 73.4375 \r\nQ 25.25 74.21875 29.59375 74.21875 \r\nQ 40.828125 74.21875 47.359375 69.109375 \r\nQ 53.90625 64.015625 53.90625 55.328125 \r\nQ 53.90625 49.265625 50.4375 45.09375 \r\nQ 46.96875 40.921875 40.578125 39.3125 \r\nz\r\n\" id=\"DejaVuSans-51\"/>\r\n        <path d=\"M 10.6875 12.40625 \r\nL 21 12.40625 \r\nL 21 0 \r\nL 10.6875 0 \r\nz\r\n\" id=\"DejaVuSans-46\"/>\r\n       </defs>\r\n       <use xlink:href=\"#DejaVuSans-51\"/>\r\n       <use x=\"63.623047\" xlink:href=\"#DejaVuSans-46\"/>\r\n       <use x=\"95.410156\" xlink:href=\"#DejaVuSans-48\"/>\r\n      </g>\r\n     </g>\r\n    </g>\r\n    <g id=\"ytick_2\">\r\n     <g id=\"line2d_9\">\r\n      <g>\r\n       <use style=\"fill:#ffffff;stroke:#ffffff;stroke-width:0.8;\" x=\"43.78125\" xlink:href=\"#mc5112ac647\" y=\"216.289129\"/>\r\n      </g>\r\n     </g>\r\n     <g id=\"text_10\">\r\n      <!-- 3.5 -->\r\n      <g style=\"fill:#ffffff;\" transform=\"translate(20.878125 220.088347)scale(0.1 -0.1)\">\r\n       <use xlink:href=\"#DejaVuSans-51\"/>\r\n       <use x=\"63.623047\" xlink:href=\"#DejaVuSans-46\"/>\r\n       <use x=\"95.410156\" xlink:href=\"#DejaVuSans-53\"/>\r\n      </g>\r\n     </g>\r\n    </g>\r\n    <g id=\"ytick_3\">\r\n     <g id=\"line2d_10\">\r\n      <g>\r\n       <use style=\"fill:#ffffff;stroke:#ffffff;stroke-width:0.8;\" x=\"43.78125\" xlink:href=\"#mc5112ac647\" y=\"176.014678\"/>\r\n      </g>\r\n     </g>\r\n     <g id=\"text_11\">\r\n      <!-- 4.0 -->\r\n      <g style=\"fill:#ffffff;\" transform=\"translate(20.878125 179.813896)scale(0.1 -0.1)\">\r\n       <defs>\r\n        <path d=\"M 37.796875 64.3125 \r\nL 12.890625 25.390625 \r\nL 37.796875 25.390625 \r\nz\r\nM 35.203125 72.90625 \r\nL 47.609375 72.90625 \r\nL 47.609375 25.390625 \r\nL 58.015625 25.390625 \r\nL 58.015625 17.1875 \r\nL 47.609375 17.1875 \r\nL 47.609375 0 \r\nL 37.796875 0 \r\nL 37.796875 17.1875 \r\nL 4.890625 17.1875 \r\nL 4.890625 26.703125 \r\nz\r\n\" id=\"DejaVuSans-52\"/>\r\n       </defs>\r\n       <use xlink:href=\"#DejaVuSans-52\"/>\r\n       <use x=\"63.623047\" xlink:href=\"#DejaVuSans-46\"/>\r\n       <use x=\"95.410156\" xlink:href=\"#DejaVuSans-48\"/>\r\n      </g>\r\n     </g>\r\n    </g>\r\n    <g id=\"ytick_4\">\r\n     <g id=\"line2d_11\">\r\n      <g>\r\n       <use style=\"fill:#ffffff;stroke:#ffffff;stroke-width:0.8;\" x=\"43.78125\" xlink:href=\"#mc5112ac647\" y=\"135.740227\"/>\r\n      </g>\r\n     </g>\r\n     <g id=\"text_12\">\r\n      <!-- 4.5 -->\r\n      <g style=\"fill:#ffffff;\" transform=\"translate(20.878125 139.539446)scale(0.1 -0.1)\">\r\n       <use xlink:href=\"#DejaVuSans-52\"/>\r\n       <use x=\"63.623047\" xlink:href=\"#DejaVuSans-46\"/>\r\n       <use x=\"95.410156\" xlink:href=\"#DejaVuSans-53\"/>\r\n      </g>\r\n     </g>\r\n    </g>\r\n    <g id=\"ytick_5\">\r\n     <g id=\"line2d_12\">\r\n      <g>\r\n       <use style=\"fill:#ffffff;stroke:#ffffff;stroke-width:0.8;\" x=\"43.78125\" xlink:href=\"#mc5112ac647\" y=\"95.465776\"/>\r\n      </g>\r\n     </g>\r\n     <g id=\"text_13\">\r\n      <!-- 5.0 -->\r\n      <g style=\"fill:#ffffff;\" transform=\"translate(20.878125 99.264995)scale(0.1 -0.1)\">\r\n       <use xlink:href=\"#DejaVuSans-53\"/>\r\n       <use x=\"63.623047\" xlink:href=\"#DejaVuSans-46\"/>\r\n       <use x=\"95.410156\" xlink:href=\"#DejaVuSans-48\"/>\r\n      </g>\r\n     </g>\r\n    </g>\r\n    <g id=\"ytick_6\">\r\n     <g id=\"line2d_13\">\r\n      <g>\r\n       <use style=\"fill:#ffffff;stroke:#ffffff;stroke-width:0.8;\" x=\"43.78125\" xlink:href=\"#mc5112ac647\" y=\"55.191325\"/>\r\n      </g>\r\n     </g>\r\n     <g id=\"text_14\">\r\n      <!-- 5.5 -->\r\n      <g style=\"fill:#ffffff;\" transform=\"translate(20.878125 58.990544)scale(0.1 -0.1)\">\r\n       <use xlink:href=\"#DejaVuSans-53\"/>\r\n       <use x=\"63.623047\" xlink:href=\"#DejaVuSans-46\"/>\r\n       <use x=\"95.410156\" xlink:href=\"#DejaVuSans-53\"/>\r\n      </g>\r\n     </g>\r\n    </g>\r\n    <g id=\"text_15\">\r\n     <!-- k -->\r\n     <g style=\"fill:#ffffff;\" transform=\"translate(14.798437 147.913437)rotate(-90)scale(0.1 -0.1)\">\r\n      <defs>\r\n       <path d=\"M 9.078125 75.984375 \r\nL 18.109375 75.984375 \r\nL 18.109375 31.109375 \r\nL 44.921875 54.6875 \r\nL 56.390625 54.6875 \r\nL 27.390625 29.109375 \r\nL 57.625 0 \r\nL 45.90625 0 \r\nL 18.109375 26.703125 \r\nL 18.109375 0 \r\nL 9.078125 0 \r\nz\r\n\" id=\"DejaVuSans-107\"/>\r\n      </defs>\r\n      <use xlink:href=\"#DejaVuSans-107\"/>\r\n     </g>\r\n    </g>\r\n   </g>\r\n   <g id=\"line2d_14\">\r\n    <path clip-path=\"url(#p2594458c8a)\" d=\"M 43.78125 33.47267 \r\nL 284.76875 33.47267 \r\n\" style=\"fill:none;stroke:#808080;stroke-linecap:square;\"/>\r\n   </g>\r\n   <g id=\"line2d_15\">\r\n    <path clip-path=\"url(#p2594458c8a)\" d=\"M 54.735227 256.56358 \r\nL 56.062982 253.614668 \r\nL 58.718492 246.835065 \r\nL 61.374001 239.199582 \r\nL 65.357266 226.778847 \r\nL 79.962569 179.836313 \r\nL 83.945833 167.970571 \r\nL 87.929098 156.766622 \r\nL 91.912362 146.270346 \r\nL 95.895627 136.49694 \r\nL 99.878891 127.440476 \r\nL 103.862156 119.080786 \r\nL 107.84542 111.388442 \r\nL 111.828685 104.328331 \r\nL 115.811949 97.862224 \r\nL 119.795213 91.950588 \r\nL 123.778478 86.553866 \r\nL 127.761742 81.633349 \r\nL 131.745007 77.151762 \r\nL 135.728271 73.07363 \r\nL 139.711536 69.365501 \r\nL 143.6948 65.996047 \r\nL 147.678065 62.936097 \r\nL 151.661329 60.15861 \r\nL 155.644594 57.638606 \r\nL 159.627858 55.353087 \r\nL 163.611123 53.280924 \r\nL 168.922142 50.816693 \r\nL 174.233161 48.656115 \r\nL 179.54418 46.762497 \r\nL 184.8552 45.103396 \r\nL 190.166219 43.650172 \r\nL 196.804993 42.084994 \r\nL 203.443767 40.759516 \r\nL 211.410296 39.434466 \r\nL 219.376825 38.349707 \r\nL 228.671109 37.330463 \r\nL 239.293147 36.4233 \r\nL 251.242941 35.654787 \r\nL 264.520489 35.033038 \r\nL 272.487018 34.748567 \r\nL 272.487018 34.748567 \r\n\" style=\"fill:none;stroke:#1e90ff;stroke-linecap:square;stroke-width:2;\"/>\r\n   </g>\r\n   <g id=\"line2d_16\">\r\n    <path clip-path=\"url(#p2594458c8a)\" d=\"M 47.963678 267.718125 \r\nL 284.569587 22.318125 \r\n\" style=\"fill:none;stroke:#808080;stroke-linecap:square;\"/>\r\n   </g>\r\n   <g id=\"patch_3\">\r\n    <path d=\"M 43.78125 267.718125 \r\nL 43.78125 22.318125 \r\n\" style=\"fill:none;stroke:#ffffff;stroke-linecap:square;stroke-linejoin:miter;stroke-width:0.8;\"/>\r\n   </g>\r\n   <g id=\"patch_4\">\r\n    <path d=\"M 284.76875 267.718125 \r\nL 284.76875 22.318125 \r\n\" style=\"fill:none;stroke:#ffffff;stroke-linecap:square;stroke-linejoin:miter;stroke-width:0.8;\"/>\r\n   </g>\r\n   <g id=\"patch_5\">\r\n    <path d=\"M 43.78125 267.718125 \r\nL 284.76875 267.718125 \r\n\" style=\"fill:none;stroke:#ffffff;stroke-linecap:square;stroke-linejoin:miter;stroke-width:0.8;\"/>\r\n   </g>\r\n   <g id=\"patch_6\">\r\n    <path d=\"M 43.78125 22.318125 \r\nL 284.76875 22.318125 \r\n\" style=\"fill:none;stroke:#ffffff;stroke-linecap:square;stroke-linejoin:miter;stroke-width:0.8;\"/>\r\n   </g>\r\n   <g id=\"text_16\">\r\n    <!-- k* -->\r\n    <g style=\"fill:#ffffff;\" transform=\"translate(56.062982 46.300658)scale(0.1 -0.1)\">\r\n     <defs>\r\n      <path d=\"M 47.015625 60.890625 \r\nL 29.5 51.421875 \r\nL 47.015625 41.890625 \r\nL 44.1875 37.109375 \r\nL 27.78125 47.015625 \r\nL 27.78125 28.609375 \r\nL 22.21875 28.609375 \r\nL 22.21875 47.015625 \r\nL 5.8125 37.109375 \r\nL 2.984375 41.890625 \r\nL 20.515625 51.421875 \r\nL 2.984375 60.890625 \r\nL 5.8125 65.71875 \r\nL 22.21875 55.8125 \r\nL 22.21875 74.21875 \r\nL 27.78125 74.21875 \r\nL 27.78125 55.8125 \r\nL 44.1875 65.71875 \r\nz\r\n\" id=\"DejaVuSans-42\"/>\r\n     </defs>\r\n     <use xlink:href=\"#DejaVuSans-107\"/>\r\n     <use x=\"57.910156\" xlink:href=\"#DejaVuSans-42\"/>\r\n    </g>\r\n   </g>\r\n   <g id=\"text_17\">\r\n    <!-- FIXED POINT ITERATION FOR K -->\r\n    <g style=\"fill:#ffffff;\" transform=\"translate(72.922188 16.318125)scale(0.12 -0.12)\">\r\n     <defs>\r\n      <path d=\"M 9.8125 72.90625 \r\nL 51.703125 72.90625 \r\nL 51.703125 64.59375 \r\nL 19.671875 64.59375 \r\nL 19.671875 43.109375 \r\nL 48.578125 43.109375 \r\nL 48.578125 34.8125 \r\nL 19.671875 34.8125 \r\nL 19.671875 0 \r\nL 9.8125 0 \r\nz\r\n\" id=\"DejaVuSans-70\"/>\r\n      <path d=\"M 9.8125 72.90625 \r\nL 19.671875 72.90625 \r\nL 19.671875 0 \r\nL 9.8125 0 \r\nz\r\n\" id=\"DejaVuSans-73\"/>\r\n      <path d=\"M 6.296875 72.90625 \r\nL 16.890625 72.90625 \r\nL 35.015625 45.796875 \r\nL 53.21875 72.90625 \r\nL 63.8125 72.90625 \r\nL 40.375 37.890625 \r\nL 65.375 0 \r\nL 54.78125 0 \r\nL 34.28125 31 \r\nL 13.625 0 \r\nL 2.984375 0 \r\nL 29 38.921875 \r\nz\r\n\" id=\"DejaVuSans-88\"/>\r\n      <path d=\"M 9.8125 72.90625 \r\nL 55.90625 72.90625 \r\nL 55.90625 64.59375 \r\nL 19.671875 64.59375 \r\nL 19.671875 43.015625 \r\nL 54.390625 43.015625 \r\nL 54.390625 34.71875 \r\nL 19.671875 34.71875 \r\nL 19.671875 8.296875 \r\nL 56.78125 8.296875 \r\nL 56.78125 0 \r\nL 9.8125 0 \r\nz\r\n\" id=\"DejaVuSans-69\"/>\r\n      <path d=\"M 19.671875 64.796875 \r\nL 19.671875 8.109375 \r\nL 31.59375 8.109375 \r\nQ 46.6875 8.109375 53.6875 14.9375 \r\nQ 60.6875 21.78125 60.6875 36.53125 \r\nQ 60.6875 51.171875 53.6875 57.984375 \r\nQ 46.6875 64.796875 31.59375 64.796875 \r\nz\r\nM 9.8125 72.90625 \r\nL 30.078125 72.90625 \r\nQ 51.265625 72.90625 61.171875 64.09375 \r\nQ 71.09375 55.28125 71.09375 36.53125 \r\nQ 71.09375 17.671875 61.125 8.828125 \r\nQ 51.171875 0 30.078125 0 \r\nL 9.8125 0 \r\nz\r\n\" id=\"DejaVuSans-68\"/>\r\n      <path id=\"DejaVuSans-32\"/>\r\n      <path d=\"M 19.671875 64.796875 \r\nL 19.671875 37.40625 \r\nL 32.078125 37.40625 \r\nQ 38.96875 37.40625 42.71875 40.96875 \r\nQ 46.484375 44.53125 46.484375 51.125 \r\nQ 46.484375 57.671875 42.71875 61.234375 \r\nQ 38.96875 64.796875 32.078125 64.796875 \r\nz\r\nM 9.8125 72.90625 \r\nL 32.078125 72.90625 \r\nQ 44.34375 72.90625 50.609375 67.359375 \r\nQ 56.890625 61.8125 56.890625 51.125 \r\nQ 56.890625 40.328125 50.609375 34.8125 \r\nQ 44.34375 29.296875 32.078125 29.296875 \r\nL 19.671875 29.296875 \r\nL 19.671875 0 \r\nL 9.8125 0 \r\nz\r\n\" id=\"DejaVuSans-80\"/>\r\n      <path d=\"M 39.40625 66.21875 \r\nQ 28.65625 66.21875 22.328125 58.203125 \r\nQ 16.015625 50.203125 16.015625 36.375 \r\nQ 16.015625 22.609375 22.328125 14.59375 \r\nQ 28.65625 6.59375 39.40625 6.59375 \r\nQ 50.140625 6.59375 56.421875 14.59375 \r\nQ 62.703125 22.609375 62.703125 36.375 \r\nQ 62.703125 50.203125 56.421875 58.203125 \r\nQ 50.140625 66.21875 39.40625 66.21875 \r\nz\r\nM 39.40625 74.21875 \r\nQ 54.734375 74.21875 63.90625 63.9375 \r\nQ 73.09375 53.65625 73.09375 36.375 \r\nQ 73.09375 19.140625 63.90625 8.859375 \r\nQ 54.734375 -1.421875 39.40625 -1.421875 \r\nQ 24.03125 -1.421875 14.8125 8.828125 \r\nQ 5.609375 19.09375 5.609375 36.375 \r\nQ 5.609375 53.65625 14.8125 63.9375 \r\nQ 24.03125 74.21875 39.40625 74.21875 \r\nz\r\n\" id=\"DejaVuSans-79\"/>\r\n      <path d=\"M 9.8125 72.90625 \r\nL 23.09375 72.90625 \r\nL 55.421875 11.921875 \r\nL 55.421875 72.90625 \r\nL 64.984375 72.90625 \r\nL 64.984375 0 \r\nL 51.703125 0 \r\nL 19.390625 60.984375 \r\nL 19.390625 0 \r\nL 9.8125 0 \r\nz\r\n\" id=\"DejaVuSans-78\"/>\r\n      <path d=\"M -0.296875 72.90625 \r\nL 61.375 72.90625 \r\nL 61.375 64.59375 \r\nL 35.5 64.59375 \r\nL 35.5 0 \r\nL 25.59375 0 \r\nL 25.59375 64.59375 \r\nL -0.296875 64.59375 \r\nz\r\n\" id=\"DejaVuSans-84\"/>\r\n      <path d=\"M 44.390625 34.1875 \r\nQ 47.5625 33.109375 50.5625 29.59375 \r\nQ 53.5625 26.078125 56.59375 19.921875 \r\nL 66.609375 0 \r\nL 56 0 \r\nL 46.6875 18.703125 \r\nQ 43.0625 26.03125 39.671875 28.421875 \r\nQ 36.28125 30.8125 30.421875 30.8125 \r\nL 19.671875 30.8125 \r\nL 19.671875 0 \r\nL 9.8125 0 \r\nL 9.8125 72.90625 \r\nL 32.078125 72.90625 \r\nQ 44.578125 72.90625 50.734375 67.671875 \r\nQ 56.890625 62.453125 56.890625 51.90625 \r\nQ 56.890625 45.015625 53.6875 40.46875 \r\nQ 50.484375 35.9375 44.390625 34.1875 \r\nz\r\nM 19.671875 64.796875 \r\nL 19.671875 38.921875 \r\nL 32.078125 38.921875 \r\nQ 39.203125 38.921875 42.84375 42.21875 \r\nQ 46.484375 45.515625 46.484375 51.90625 \r\nQ 46.484375 58.296875 42.84375 61.546875 \r\nQ 39.203125 64.796875 32.078125 64.796875 \r\nz\r\n\" id=\"DejaVuSans-82\"/>\r\n      <path d=\"M 34.1875 63.1875 \r\nL 20.796875 26.90625 \r\nL 47.609375 26.90625 \r\nz\r\nM 28.609375 72.90625 \r\nL 39.796875 72.90625 \r\nL 67.578125 0 \r\nL 57.328125 0 \r\nL 50.6875 18.703125 \r\nL 17.828125 18.703125 \r\nL 11.1875 0 \r\nL 0.78125 0 \r\nz\r\n\" id=\"DejaVuSans-65\"/>\r\n      <path d=\"M 9.8125 72.90625 \r\nL 19.671875 72.90625 \r\nL 19.671875 42.09375 \r\nL 52.390625 72.90625 \r\nL 65.09375 72.90625 \r\nL 28.90625 38.921875 \r\nL 67.671875 0 \r\nL 54.6875 0 \r\nL 19.671875 35.109375 \r\nL 19.671875 0 \r\nL 9.8125 0 \r\nz\r\n\" id=\"DejaVuSans-75\"/>\r\n     </defs>\r\n     <use xlink:href=\"#DejaVuSans-70\"/>\r\n     <use x=\"57.519531\" xlink:href=\"#DejaVuSans-73\"/>\r\n     <use x=\"87.011719\" xlink:href=\"#DejaVuSans-88\"/>\r\n     <use x=\"155.517578\" xlink:href=\"#DejaVuSans-69\"/>\r\n     <use x=\"218.701172\" xlink:href=\"#DejaVuSans-68\"/>\r\n     <use x=\"295.703125\" xlink:href=\"#DejaVuSans-32\"/>\r\n     <use x=\"327.490234\" xlink:href=\"#DejaVuSans-80\"/>\r\n     <use x=\"387.792969\" xlink:href=\"#DejaVuSans-79\"/>\r\n     <use x=\"466.503906\" xlink:href=\"#DejaVuSans-73\"/>\r\n     <use x=\"495.996094\" xlink:href=\"#DejaVuSans-78\"/>\r\n     <use x=\"570.800781\" xlink:href=\"#DejaVuSans-84\"/>\r\n     <use x=\"631.884766\" xlink:href=\"#DejaVuSans-32\"/>\r\n     <use x=\"663.671875\" xlink:href=\"#DejaVuSans-73\"/>\r\n     <use x=\"693.164062\" xlink:href=\"#DejaVuSans-84\"/>\r\n     <use x=\"754.248047\" xlink:href=\"#DejaVuSans-69\"/>\r\n     <use x=\"817.431641\" xlink:href=\"#DejaVuSans-82\"/>\r\n     <use x=\"882.914062\" xlink:href=\"#DejaVuSans-65\"/>\r\n     <use x=\"943.572266\" xlink:href=\"#DejaVuSans-84\"/>\r\n     <use x=\"1004.65625\" xlink:href=\"#DejaVuSans-73\"/>\r\n     <use x=\"1034.148438\" xlink:href=\"#DejaVuSans-79\"/>\r\n     <use x=\"1112.859375\" xlink:href=\"#DejaVuSans-78\"/>\r\n     <use x=\"1187.664062\" xlink:href=\"#DejaVuSans-32\"/>\r\n     <use x=\"1219.451172\" xlink:href=\"#DejaVuSans-70\"/>\r\n     <use x=\"1276.970703\" xlink:href=\"#DejaVuSans-79\"/>\r\n     <use x=\"1355.681641\" xlink:href=\"#DejaVuSans-82\"/>\r\n     <use x=\"1425.164062\" xlink:href=\"#DejaVuSans-32\"/>\r\n     <use x=\"1456.951172\" xlink:href=\"#DejaVuSans-75\"/>\r\n    </g>\r\n   </g>\r\n  </g>\r\n  <g id=\"axes_2\">\r\n   <g id=\"patch_7\">\r\n    <path d=\"M 326.38125 267.718125 \r\nL 567.36875 267.718125 \r\nL 567.36875 22.318125 \r\nL 326.38125 22.318125 \r\nz\r\n\"/>\r\n   </g>\r\n   <g id=\"matplotlib.axis_3\">\r\n    <g id=\"xtick_8\">\r\n     <g id=\"line2d_17\">\r\n      <g>\r\n       <use style=\"fill:#ffffff;stroke:#ffffff;stroke-width:0.8;\" x=\"337.335227\" xlink:href=\"#maea22e7029\" y=\"267.718125\"/>\r\n      </g>\r\n     </g>\r\n     <g id=\"text_18\">\r\n      <!-- 0 -->\r\n      <g style=\"fill:#ffffff;\" transform=\"translate(334.153977 282.316563)scale(0.1 -0.1)\">\r\n       <use xlink:href=\"#DejaVuSans-48\"/>\r\n      </g>\r\n     </g>\r\n    </g>\r\n    <g id=\"xtick_9\">\r\n     <g id=\"line2d_18\">\r\n      <g>\r\n       <use style=\"fill:#ffffff;stroke:#ffffff;stroke-width:0.8;\" x=\"370.529098\" xlink:href=\"#maea22e7029\" y=\"267.718125\"/>\r\n      </g>\r\n     </g>\r\n     <g id=\"text_19\">\r\n      <!-- 25 -->\r\n      <g style=\"fill:#ffffff;\" transform=\"translate(364.166598 282.316563)scale(0.1 -0.1)\">\r\n       <use xlink:href=\"#DejaVuSans-50\"/>\r\n       <use x=\"63.623047\" xlink:href=\"#DejaVuSans-53\"/>\r\n      </g>\r\n     </g>\r\n    </g>\r\n    <g id=\"xtick_10\">\r\n     <g id=\"line2d_19\">\r\n      <g>\r\n       <use style=\"fill:#ffffff;stroke:#ffffff;stroke-width:0.8;\" x=\"403.722968\" xlink:href=\"#maea22e7029\" y=\"267.718125\"/>\r\n      </g>\r\n     </g>\r\n     <g id=\"text_20\">\r\n      <!-- 50 -->\r\n      <g style=\"fill:#ffffff;\" transform=\"translate(397.360468 282.316563)scale(0.1 -0.1)\">\r\n       <use xlink:href=\"#DejaVuSans-53\"/>\r\n       <use x=\"63.623047\" xlink:href=\"#DejaVuSans-48\"/>\r\n      </g>\r\n     </g>\r\n    </g>\r\n    <g id=\"xtick_11\">\r\n     <g id=\"line2d_20\">\r\n      <g>\r\n       <use style=\"fill:#ffffff;stroke:#ffffff;stroke-width:0.8;\" x=\"436.916839\" xlink:href=\"#maea22e7029\" y=\"267.718125\"/>\r\n      </g>\r\n     </g>\r\n     <g id=\"text_21\">\r\n      <!-- 75 -->\r\n      <g style=\"fill:#ffffff;\" transform=\"translate(430.554339 282.316563)scale(0.1 -0.1)\">\r\n       <use xlink:href=\"#DejaVuSans-55\"/>\r\n       <use x=\"63.623047\" xlink:href=\"#DejaVuSans-53\"/>\r\n      </g>\r\n     </g>\r\n    </g>\r\n    <g id=\"xtick_12\">\r\n     <g id=\"line2d_21\">\r\n      <g>\r\n       <use style=\"fill:#ffffff;stroke:#ffffff;stroke-width:0.8;\" x=\"470.110709\" xlink:href=\"#maea22e7029\" y=\"267.718125\"/>\r\n      </g>\r\n     </g>\r\n     <g id=\"text_22\">\r\n      <!-- 100 -->\r\n      <g style=\"fill:#ffffff;\" transform=\"translate(460.566959 282.316563)scale(0.1 -0.1)\">\r\n       <use xlink:href=\"#DejaVuSans-49\"/>\r\n       <use x=\"63.623047\" xlink:href=\"#DejaVuSans-48\"/>\r\n       <use x=\"127.246094\" xlink:href=\"#DejaVuSans-48\"/>\r\n      </g>\r\n     </g>\r\n    </g>\r\n    <g id=\"xtick_13\">\r\n     <g id=\"line2d_22\">\r\n      <g>\r\n       <use style=\"fill:#ffffff;stroke:#ffffff;stroke-width:0.8;\" x=\"503.30458\" xlink:href=\"#maea22e7029\" y=\"267.718125\"/>\r\n      </g>\r\n     </g>\r\n     <g id=\"text_23\">\r\n      <!-- 125 -->\r\n      <g style=\"fill:#ffffff;\" transform=\"translate(493.76083 282.316563)scale(0.1 -0.1)\">\r\n       <use xlink:href=\"#DejaVuSans-49\"/>\r\n       <use x=\"63.623047\" xlink:href=\"#DejaVuSans-50\"/>\r\n       <use x=\"127.246094\" xlink:href=\"#DejaVuSans-53\"/>\r\n      </g>\r\n     </g>\r\n    </g>\r\n    <g id=\"xtick_14\">\r\n     <g id=\"line2d_23\">\r\n      <g>\r\n       <use style=\"fill:#ffffff;stroke:#ffffff;stroke-width:0.8;\" x=\"536.49845\" xlink:href=\"#maea22e7029\" y=\"267.718125\"/>\r\n      </g>\r\n     </g>\r\n     <g id=\"text_24\">\r\n      <!-- 150 -->\r\n      <g style=\"fill:#ffffff;\" transform=\"translate(526.9547 282.316563)scale(0.1 -0.1)\">\r\n       <use xlink:href=\"#DejaVuSans-49\"/>\r\n       <use x=\"63.623047\" xlink:href=\"#DejaVuSans-53\"/>\r\n       <use x=\"127.246094\" xlink:href=\"#DejaVuSans-48\"/>\r\n      </g>\r\n     </g>\r\n    </g>\r\n    <g id=\"text_25\">\r\n     <!-- iter -->\r\n     <g style=\"fill:#ffffff;\" transform=\"translate(438.39375 295.994687)scale(0.1 -0.1)\">\r\n      <use xlink:href=\"#DejaVuSans-105\"/>\r\n      <use x=\"27.783203\" xlink:href=\"#DejaVuSans-116\"/>\r\n      <use x=\"66.992188\" xlink:href=\"#DejaVuSans-101\"/>\r\n      <use x=\"128.515625\" xlink:href=\"#DejaVuSans-114\"/>\r\n     </g>\r\n    </g>\r\n   </g>\r\n   <g id=\"matplotlib.axis_4\">\r\n    <g id=\"ytick_7\">\r\n     <g id=\"line2d_24\">\r\n      <g>\r\n       <use style=\"fill:#ffffff;stroke:#ffffff;stroke-width:0.8;\" x=\"326.38125\" xlink:href=\"#mc5112ac647\" y=\"256.56358\"/>\r\n      </g>\r\n     </g>\r\n     <g id=\"text_26\">\r\n      <!-- 3 -->\r\n      <g style=\"fill:#ffffff;\" transform=\"translate(313.01875 260.362798)scale(0.1 -0.1)\">\r\n       <use xlink:href=\"#DejaVuSans-51\"/>\r\n      </g>\r\n     </g>\r\n    </g>\r\n    <g id=\"ytick_8\">\r\n     <g id=\"line2d_25\">\r\n      <g>\r\n       <use style=\"fill:#ffffff;stroke:#ffffff;stroke-width:0.8;\" x=\"326.38125\" xlink:href=\"#mc5112ac647\" y=\"215.853349\"/>\r\n      </g>\r\n     </g>\r\n     <g id=\"text_27\">\r\n      <!-- 4 -->\r\n      <g style=\"fill:#ffffff;\" transform=\"translate(313.01875 219.652568)scale(0.1 -0.1)\">\r\n       <use xlink:href=\"#DejaVuSans-52\"/>\r\n      </g>\r\n     </g>\r\n    </g>\r\n    <g id=\"ytick_9\">\r\n     <g id=\"line2d_26\">\r\n      <g>\r\n       <use style=\"fill:#ffffff;stroke:#ffffff;stroke-width:0.8;\" x=\"326.38125\" xlink:href=\"#mc5112ac647\" y=\"175.143119\"/>\r\n      </g>\r\n     </g>\r\n     <g id=\"text_28\">\r\n      <!-- 5 -->\r\n      <g style=\"fill:#ffffff;\" transform=\"translate(313.01875 178.942338)scale(0.1 -0.1)\">\r\n       <use xlink:href=\"#DejaVuSans-53\"/>\r\n      </g>\r\n     </g>\r\n    </g>\r\n    <g id=\"ytick_10\">\r\n     <g id=\"line2d_27\">\r\n      <g>\r\n       <use style=\"fill:#ffffff;stroke:#ffffff;stroke-width:0.8;\" x=\"326.38125\" xlink:href=\"#mc5112ac647\" y=\"134.432889\"/>\r\n      </g>\r\n     </g>\r\n     <g id=\"text_29\">\r\n      <!-- 6 -->\r\n      <g style=\"fill:#ffffff;\" transform=\"translate(313.01875 138.232108)scale(0.1 -0.1)\">\r\n       <defs>\r\n        <path d=\"M 33.015625 40.375 \r\nQ 26.375 40.375 22.484375 35.828125 \r\nQ 18.609375 31.296875 18.609375 23.390625 \r\nQ 18.609375 15.53125 22.484375 10.953125 \r\nQ 26.375 6.390625 33.015625 6.390625 \r\nQ 39.65625 6.390625 43.53125 10.953125 \r\nQ 47.40625 15.53125 47.40625 23.390625 \r\nQ 47.40625 31.296875 43.53125 35.828125 \r\nQ 39.65625 40.375 33.015625 40.375 \r\nz\r\nM 52.59375 71.296875 \r\nL 52.59375 62.3125 \r\nQ 48.875 64.0625 45.09375 64.984375 \r\nQ 41.3125 65.921875 37.59375 65.921875 \r\nQ 27.828125 65.921875 22.671875 59.328125 \r\nQ 17.53125 52.734375 16.796875 39.40625 \r\nQ 19.671875 43.65625 24.015625 45.921875 \r\nQ 28.375 48.1875 33.59375 48.1875 \r\nQ 44.578125 48.1875 50.953125 41.515625 \r\nQ 57.328125 34.859375 57.328125 23.390625 \r\nQ 57.328125 12.15625 50.6875 5.359375 \r\nQ 44.046875 -1.421875 33.015625 -1.421875 \r\nQ 20.359375 -1.421875 13.671875 8.265625 \r\nQ 6.984375 17.96875 6.984375 36.375 \r\nQ 6.984375 53.65625 15.1875 63.9375 \r\nQ 23.390625 74.21875 37.203125 74.21875 \r\nQ 40.921875 74.21875 44.703125 73.484375 \r\nQ 48.484375 72.75 52.59375 71.296875 \r\nz\r\n\" id=\"DejaVuSans-54\"/>\r\n       </defs>\r\n       <use xlink:href=\"#DejaVuSans-54\"/>\r\n      </g>\r\n     </g>\r\n    </g>\r\n    <g id=\"ytick_11\">\r\n     <g id=\"line2d_28\">\r\n      <g>\r\n       <use style=\"fill:#ffffff;stroke:#ffffff;stroke-width:0.8;\" x=\"326.38125\" xlink:href=\"#mc5112ac647\" y=\"93.722659\"/>\r\n      </g>\r\n     </g>\r\n     <g id=\"text_30\">\r\n      <!-- 7 -->\r\n      <g style=\"fill:#ffffff;\" transform=\"translate(313.01875 97.521877)scale(0.1 -0.1)\">\r\n       <use xlink:href=\"#DejaVuSans-55\"/>\r\n      </g>\r\n     </g>\r\n    </g>\r\n    <g id=\"ytick_12\">\r\n     <g id=\"line2d_29\">\r\n      <g>\r\n       <use style=\"fill:#ffffff;stroke:#ffffff;stroke-width:0.8;\" x=\"326.38125\" xlink:href=\"#mc5112ac647\" y=\"53.012428\"/>\r\n      </g>\r\n     </g>\r\n     <g id=\"text_31\">\r\n      <!-- 8 -->\r\n      <g style=\"fill:#ffffff;\" transform=\"translate(313.01875 56.811647)scale(0.1 -0.1)\">\r\n       <defs>\r\n        <path d=\"M 31.78125 34.625 \r\nQ 24.75 34.625 20.71875 30.859375 \r\nQ 16.703125 27.09375 16.703125 20.515625 \r\nQ 16.703125 13.921875 20.71875 10.15625 \r\nQ 24.75 6.390625 31.78125 6.390625 \r\nQ 38.8125 6.390625 42.859375 10.171875 \r\nQ 46.921875 13.96875 46.921875 20.515625 \r\nQ 46.921875 27.09375 42.890625 30.859375 \r\nQ 38.875 34.625 31.78125 34.625 \r\nz\r\nM 21.921875 38.8125 \r\nQ 15.578125 40.375 12.03125 44.71875 \r\nQ 8.5 49.078125 8.5 55.328125 \r\nQ 8.5 64.0625 14.71875 69.140625 \r\nQ 20.953125 74.21875 31.78125 74.21875 \r\nQ 42.671875 74.21875 48.875 69.140625 \r\nQ 55.078125 64.0625 55.078125 55.328125 \r\nQ 55.078125 49.078125 51.53125 44.71875 \r\nQ 48 40.375 41.703125 38.8125 \r\nQ 48.828125 37.15625 52.796875 32.3125 \r\nQ 56.78125 27.484375 56.78125 20.515625 \r\nQ 56.78125 9.90625 50.3125 4.234375 \r\nQ 43.84375 -1.421875 31.78125 -1.421875 \r\nQ 19.734375 -1.421875 13.25 4.234375 \r\nQ 6.78125 9.90625 6.78125 20.515625 \r\nQ 6.78125 27.484375 10.78125 32.3125 \r\nQ 14.796875 37.15625 21.921875 38.8125 \r\nz\r\nM 18.3125 54.390625 \r\nQ 18.3125 48.734375 21.84375 45.5625 \r\nQ 25.390625 42.390625 31.78125 42.390625 \r\nQ 38.140625 42.390625 41.71875 45.5625 \r\nQ 45.3125 48.734375 45.3125 54.390625 \r\nQ 45.3125 60.0625 41.71875 63.234375 \r\nQ 38.140625 66.40625 31.78125 66.40625 \r\nQ 25.390625 66.40625 21.84375 63.234375 \r\nQ 18.3125 60.0625 18.3125 54.390625 \r\nz\r\n\" id=\"DejaVuSans-56\"/>\r\n       </defs>\r\n       <use xlink:href=\"#DejaVuSans-56\"/>\r\n      </g>\r\n     </g>\r\n    </g>\r\n    <g id=\"text_32\">\r\n     <!-- h -->\r\n     <g style=\"fill:#ffffff;\" transform=\"translate(306.939062 148.186875)rotate(-90)scale(0.1 -0.1)\">\r\n      <defs>\r\n       <path d=\"M 54.890625 33.015625 \r\nL 54.890625 0 \r\nL 45.90625 0 \r\nL 45.90625 32.71875 \r\nQ 45.90625 40.484375 42.875 44.328125 \r\nQ 39.84375 48.1875 33.796875 48.1875 \r\nQ 26.515625 48.1875 22.3125 43.546875 \r\nQ 18.109375 38.921875 18.109375 30.90625 \r\nL 18.109375 0 \r\nL 9.078125 0 \r\nL 9.078125 75.984375 \r\nL 18.109375 75.984375 \r\nL 18.109375 46.1875 \r\nQ 21.34375 51.125 25.703125 53.5625 \r\nQ 30.078125 56 35.796875 56 \r\nQ 45.21875 56 50.046875 50.171875 \r\nQ 54.890625 44.34375 54.890625 33.015625 \r\nz\r\n\" id=\"DejaVuSans-104\"/>\r\n      </defs>\r\n      <use xlink:href=\"#DejaVuSans-104\"/>\r\n     </g>\r\n    </g>\r\n   </g>\r\n   <g id=\"line2d_30\">\r\n    <path clip-path=\"url(#p791f837e89)\" d=\"M 326.38125 33.47267 \r\nL 567.36875 33.47267 \r\n\" style=\"fill:none;stroke:#808080;stroke-linecap:square;\"/>\r\n   </g>\r\n   <g id=\"line2d_31\">\r\n    <path clip-path=\"url(#p791f837e89)\" d=\"M 330.563678 267.718125 \r\nL 567.169587 22.318125 \r\n\" style=\"fill:none;stroke:#808080;stroke-linecap:square;\"/>\r\n   </g>\r\n   <g id=\"line2d_32\">\r\n    <path clip-path=\"url(#p791f837e89)\" d=\"M 337.335227 256.56358 \r\nL 341.318492 238.329352 \r\nL 345.301756 221.589359 \r\nL 349.285021 206.174565 \r\nL 353.268285 191.948086 \r\nL 357.25155 178.800844 \r\nL 361.234814 166.644739 \r\nL 365.218079 155.406504 \r\nL 369.201343 145.023014 \r\nL 373.184607 135.437992 \r\nL 377.167872 126.599849 \r\nL 381.151136 118.460314 \r\nL 385.134401 110.973644 \r\nL 389.117665 104.096182 \r\nL 393.10093 97.786162 \r\nL 397.084194 92.003629 \r\nL 401.067459 86.710442 \r\nL 405.050723 81.870301 \r\nL 409.033988 77.44878 \r\nL 413.017252 73.413352 \r\nL 417.000517 69.733399 \r\nL 420.983781 66.380201 \r\nL 424.967045 63.326907 \r\nL 428.95031 60.548496 \r\nL 432.933574 58.021716 \r\nL 436.916839 55.725017 \r\nL 440.900103 53.638472 \r\nL 446.211123 51.151756 \r\nL 451.522142 48.966544 \r\nL 456.833161 47.047479 \r\nL 462.14418 45.363069 \r\nL 467.4552 43.885332 \r\nL 474.093974 42.291272 \r\nL 480.732748 40.9393 \r\nL 487.371522 39.793203 \r\nL 495.338051 38.646387 \r\nL 504.632335 37.567539 \r\nL 513.926618 36.712887 \r\nL 524.548657 35.95172 \r\nL 537.826205 35.246091 \r\nL 552.431508 34.699222 \r\nL 555.087018 34.619669 \r\nL 555.087018 34.619669 \r\n\" style=\"fill:none;stroke:#b22222;stroke-linecap:square;stroke-width:2;\"/>\r\n   </g>\r\n   <g id=\"patch_8\">\r\n    <path d=\"M 326.38125 267.718125 \r\nL 326.38125 22.318125 \r\n\" style=\"fill:none;stroke:#ffffff;stroke-linecap:square;stroke-linejoin:miter;stroke-width:0.8;\"/>\r\n   </g>\r\n   <g id=\"patch_9\">\r\n    <path d=\"M 567.36875 267.718125 \r\nL 567.36875 22.318125 \r\n\" style=\"fill:none;stroke:#ffffff;stroke-linecap:square;stroke-linejoin:miter;stroke-width:0.8;\"/>\r\n   </g>\r\n   <g id=\"patch_10\">\r\n    <path d=\"M 326.38125 267.718125 \r\nL 567.36875 267.718125 \r\n\" style=\"fill:none;stroke:#ffffff;stroke-linecap:square;stroke-linejoin:miter;stroke-width:0.8;\"/>\r\n   </g>\r\n   <g id=\"patch_11\">\r\n    <path d=\"M 326.38125 22.318125 \r\nL 567.36875 22.318125 \r\n\" style=\"fill:none;stroke:#ffffff;stroke-linecap:square;stroke-linejoin:miter;stroke-width:0.8;\"/>\r\n   </g>\r\n   <g id=\"text_33\">\r\n    <!-- h* -->\r\n    <g style=\"fill:#ffffff;\" transform=\"translate(338.662982 46.409603)scale(0.1 -0.1)\">\r\n     <use xlink:href=\"#DejaVuSans-104\"/>\r\n     <use x=\"63.378906\" xlink:href=\"#DejaVuSans-42\"/>\r\n    </g>\r\n   </g>\r\n   <g id=\"text_34\">\r\n    <!-- FIXED POINT ITERATION FOR H -->\r\n    <g style=\"fill:#ffffff;\" transform=\"translate(354.944687 16.318125)scale(0.12 -0.12)\">\r\n     <defs>\r\n      <path d=\"M 9.8125 72.90625 \r\nL 19.671875 72.90625 \r\nL 19.671875 43.015625 \r\nL 55.515625 43.015625 \r\nL 55.515625 72.90625 \r\nL 65.375 72.90625 \r\nL 65.375 0 \r\nL 55.515625 0 \r\nL 55.515625 34.71875 \r\nL 19.671875 34.71875 \r\nL 19.671875 0 \r\nL 9.8125 0 \r\nz\r\n\" id=\"DejaVuSans-72\"/>\r\n     </defs>\r\n     <use xlink:href=\"#DejaVuSans-70\"/>\r\n     <use x=\"57.519531\" xlink:href=\"#DejaVuSans-73\"/>\r\n     <use x=\"87.011719\" xlink:href=\"#DejaVuSans-88\"/>\r\n     <use x=\"155.517578\" xlink:href=\"#DejaVuSans-69\"/>\r\n     <use x=\"218.701172\" xlink:href=\"#DejaVuSans-68\"/>\r\n     <use x=\"295.703125\" xlink:href=\"#DejaVuSans-32\"/>\r\n     <use x=\"327.490234\" xlink:href=\"#DejaVuSans-80\"/>\r\n     <use x=\"387.792969\" xlink:href=\"#DejaVuSans-79\"/>\r\n     <use x=\"466.503906\" xlink:href=\"#DejaVuSans-73\"/>\r\n     <use x=\"495.996094\" xlink:href=\"#DejaVuSans-78\"/>\r\n     <use x=\"570.800781\" xlink:href=\"#DejaVuSans-84\"/>\r\n     <use x=\"631.884766\" xlink:href=\"#DejaVuSans-32\"/>\r\n     <use x=\"663.671875\" xlink:href=\"#DejaVuSans-73\"/>\r\n     <use x=\"693.164062\" xlink:href=\"#DejaVuSans-84\"/>\r\n     <use x=\"754.248047\" xlink:href=\"#DejaVuSans-69\"/>\r\n     <use x=\"817.431641\" xlink:href=\"#DejaVuSans-82\"/>\r\n     <use x=\"882.914062\" xlink:href=\"#DejaVuSans-65\"/>\r\n     <use x=\"943.572266\" xlink:href=\"#DejaVuSans-84\"/>\r\n     <use x=\"1004.65625\" xlink:href=\"#DejaVuSans-73\"/>\r\n     <use x=\"1034.148438\" xlink:href=\"#DejaVuSans-79\"/>\r\n     <use x=\"1112.859375\" xlink:href=\"#DejaVuSans-78\"/>\r\n     <use x=\"1187.664062\" xlink:href=\"#DejaVuSans-32\"/>\r\n     <use x=\"1219.451172\" xlink:href=\"#DejaVuSans-70\"/>\r\n     <use x=\"1276.970703\" xlink:href=\"#DejaVuSans-79\"/>\r\n     <use x=\"1355.681641\" xlink:href=\"#DejaVuSans-82\"/>\r\n     <use x=\"1425.164062\" xlink:href=\"#DejaVuSans-32\"/>\r\n     <use x=\"1456.951172\" xlink:href=\"#DejaVuSans-72\"/>\r\n    </g>\r\n   </g>\r\n  </g>\r\n </g>\r\n <defs>\r\n  <clipPath id=\"p2594458c8a\">\r\n   <rect height=\"245.4\" width=\"240.9875\" x=\"43.78125\" y=\"22.318125\"/>\r\n  </clipPath>\r\n  <clipPath id=\"p791f837e89\">\r\n   <rect height=\"245.4\" width=\"240.9875\" x=\"326.38125\" y=\"22.318125\"/>\r\n  </clipPath>\r\n </defs>\r\n</svg>\r\n",
      "image/png": "[encoded data removed]"
     },
     "metadata": {}
    }
   ],
   "source": [
    "# CREATING HISTORY1 FOR GRAPHS 3 AND 4\n",
    "fig, axes = plt.subplots(1, 2, figsize=(8, 4))\n",
    "fig.tight_layout()\n",
    "axes = axes.ravel()\n",
    "\n",
    "axes[0].axhline(y = xstar[0], color = 'gray', linewidth = 1)\n",
    "axes[0].text(1, xstar[0] - 0.125, 'k*', ha='left', va='center')\n",
    "axes[0].plot(list(range(0, iterFP + 2)), history[0], color = 'dodgerblue', linewidth = 2)\n",
    "axes[0].axline([3, 3], [165, xstar[0]], color = 'gray', linewidth = 1)\n",
    "axes[0].title.set_text('FIXED POINT ITERATION FOR K')\n",
    "axes[0].set_xlabel('iter')\n",
    "axes[0].set_ylabel('k')\n",
    "\n",
    "axes[1].axhline(y = xstar[1], color = 'gray', linewidth = 1)\n",
    "axes[1].text(1, xstar[1] - 0.25, 'h*', ha='left', va='center')\n",
    "axes[1].axline([3, 3], [165, xstar[1]], color = 'gray', linewidth = 1)\n",
    "axes[1].plot(list(range(0, iterFP + 2)), history[1], color = 'firebrick', linewidth = 2)\n",
    "axes[1].title.set_text('FIXED POINT ITERATION FOR H')\n",
    "axes[1].set_xlabel('iter')\n",
    "axes[1].set_ylabel('h')"
   ]
  },
  {
   "source": [
    "Note first that the 45-degree line represents the break-even investment. When the actual investment into physical (human) capital exceeds the break-even point, the capital rises. It does as long as the path of capital is above the break-even investment line. When they are equal - it implies the path of capital is constant (or that the rate of change of capital in time is zero). When the capital is at its steady state, the economy grows with the help of exogenous parameters representing population and productivity growth rates $n$ and $g$ (unless we center around intensive forms which means the economic growth is then driven by gains in productivity $g$)"
   ],
   "cell_type": "markdown",
   "metadata": {}
  },
  {
   "source": [
    "#### Compare all the methods in terms of running time and iterations taken to converge"
   ],
   "cell_type": "markdown",
   "metadata": {}
  },
  {
   "cell_type": "code",
   "execution_count": 436,
   "metadata": {},
   "outputs": [
    {
     "output_type": "stream",
     "name": "stdout",
     "text": [
      "              Algo  Running Time  Number of Iterations\n0           Newton      0.001716                    27\n1          Broyden      0.003373                    19\n2  Inverse Broyden      0.002504                    19\n3      Fixed Point      0.005109                   163\n"
     ]
    }
   ],
   "source": [
    "logger = {\n",
    "    'Algo': ['Newton', 'Broyden', 'Inverse Broyden', 'Fixed Point'],\n",
    "    'Running Time': [tN, tB, tIB, tFP],\n",
    "    'Number of Iterations': [iterN, iterB, iterIB, iterFP]}\n",
    "df = pd.DataFrame(data = logger)\n",
    "print(df)"
   ]
  },
  {
   "source": [
    "### Exercise 3: Cournot Oligopoly"
   ],
   "cell_type": "markdown",
   "metadata": {}
  },
  {
   "source": [
    "Consider the following Cournot oligopoly model with $n$ firms. The inverse demand function inverse\n",
    "\n",
    "$$P(Q)=q^{-1/\\lambda}=\\biggr(\\sum_{i=1}^{n}q_i\\biggr)^{-1/\\lambda}$$\n",
    "\n",
    "Production costs are\n",
    "\n",
    "$$c_i(q_i)=\\frac{1}{2}\\psi_iq_i^2$$\n",
    "\n",
    "Firm's $i$ profits are given by\n",
    "\n",
    "$$\\pi_i(q_1,\\dots,q_n)=\\biggr(\\sum_{i=1}^{n}q_i\\biggr)^{-1/\\lambda}q_i-\\frac{1}{2}\\psi_iq_i^2$$\n",
    "\n",
    "For its optimization problem, firm $i$ takes the output of all other firms as given. Thus, equilibrium output levels $(q_1,\\dots, q_n)$ are the solution to\n",
    "\n",
    "$$\\frac{\\partial\\pi(\\cdot)}{\\partial q_i}=\\biggr(\\sum_{i=1}^{n}q_i\\biggr)^{-1/\\lambda}-\\frac{1}{\\lambda}\\biggr(\\sum_{i=1}^{n}q_i\\biggr)^{-1/\\lambda-1}q_i-\\psi_iq_i=0$$\n",
    "\n",
    "Let $\\lambda=1.6$. The firm-specific costs $\\psi$ take their values on an equally spaced grid between $0.6$ and $0.8$, i.e. $\\{\\psi_i=0.6 + (i - 1)\\frac{0.8-0.6}{n-1},i=1,\\dots,n\\}$"
   ],
   "cell_type": "markdown",
   "metadata": {}
  },
  {
   "source": [
    "#### Compute the equilibrium allocations for $n=[2,5,10]$ firms"
   ],
   "cell_type": "markdown",
   "metadata": {}
  },
  {
   "cell_type": "code",
   "execution_count": 12,
   "metadata": {},
   "outputs": [],
   "source": [
    "def getpsi(n):\n",
    "    \"\"\"\n",
    "    Obtain firm-specific costs on an equally spaced grid [0.6, 0.8].\n",
    "\n",
    "    Arguments:\n",
    "    n - number of firms in the economy\n",
    "\n",
    "    Returns:\n",
    "    Psi - array of firm-specific costs of length n\n",
    "    \"\"\"\n",
    "    Psi = []\n",
    "    \n",
    "    for i in range(n):\n",
    "        psi = 0.6 + i * (0.8 - 0.6)/(n-1)\n",
    "        Psi.append(psi)\n",
    "    \n",
    "    return Psi"
   ]
  },
  {
   "cell_type": "code",
   "execution_count": 3,
   "metadata": {},
   "outputs": [],
   "source": [
    "def constraint(x):\n",
    "    return x # x >= 0"
   ]
  },
  {
   "cell_type": "code",
   "execution_count": 14,
   "metadata": {},
   "outputs": [],
   "source": [
    "def objective_function(x, psi, Lambda = 1.6):\n",
    "    \"\"\"\n",
    "    Derivative of profit function of firm i.\n",
    "\n",
    "    Arguments:\n",
    "    x - quantity guess\n",
    "    psi - firm-specific cost\n",
    "    Lambda - power of quantity\n",
    "\n",
    "    Returns:\n",
    "    - function value evaluated at x\n",
    "    \"\"\"\n",
    "    return np.sum(x)**(-1/Lambda)-1/Lambda*np.sum(x)**(-1/Lambda-1)*x-psi*x"
   ]
  },
  {
   "cell_type": "code",
   "execution_count": 15,
   "metadata": {},
   "outputs": [
    {
     "output_type": "stream",
     "name": "stdout",
     "text": [
      "Equilibrium allocation q* for n=2 equals\n[0.84 0.69]\nEquilibrium allocation q* for n=5 equals\n[0.7  0.66 0.62 0.58 0.55]\nEquilibrium allocation q* for n=10 equals\n[0.57 0.55 0.53 0.52 0.5  0.49 0.47 0.46 0.45 0.43]\n"
     ]
    }
   ],
   "source": [
    "for n in [2, 5, 10]:\n",
    "    psi = getpsi(n)\n",
    "    x0 = np.random.random(n)\n",
    "    x = fsolve(objective_function, x0=x0, args=(psi,))\n",
    "    print('Equilibrium allocation q* for n={} equals\\n{}'.format(n, np.round(x, 2)))"
   ]
  },
  {
   "cell_type": "code",
   "execution_count": 16,
   "metadata": {},
   "outputs": [
    {
     "output_type": "stream",
     "name": "stdout",
     "text": [
      "Equilibrium allocation q* for n=2 equals\n[0.84 0.69]\nEquilibrium allocation q* for n=5 equals\n[0.7  0.66 0.62 0.58 0.55]\nEquilibrium allocation q* for n=10 equals\n[0.57 0.55 0.53 0.52 0.5  0.49 0.47 0.46 0.45 0.43]\n"
     ]
    }
   ],
   "source": [
    "for n in [2, 5, 10]:\n",
    "    psi = getpsi(n)\n",
    "    x0 = np.random.random(n)\n",
    "    lb = (0,) * n\n",
    "    ub = (10e10,) * n\n",
    "    res = least_squares(objective_function, x0 = x0, args = (psi,), bounds = ((lb), (ub)))\n",
    "    print('Equilibrium allocation q* for n={} equals\\n{}'.format(n, np.round(res.x, 2)))"
   ]
  },
  {
   "source": [
    "We have used **fsolve** which is an optimizer without constraints and **linear_squares** which is an optimizer with constraints (here, $q > 0$). We see that as $n$ goes up, the 'market shares' become concentrated around center which is a property of Cournot olygopoly."
   ],
   "cell_type": "markdown",
   "metadata": {}
  }
 ]
}