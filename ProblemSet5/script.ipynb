{
 "metadata": {
  "language_info": {
   "codemirror_mode": {
    "name": "ipython",
    "version": 3
   },
   "file_extension": ".py",
   "mimetype": "text/x-python",
   "name": "python",
   "nbconvert_exporter": "python",
   "pygments_lexer": "ipython3",
   "version": "3.7.6-final"
  },
  "orig_nbformat": 2,
  "kernelspec": {
   "name": "python3",
   "display_name": "Python 3.7.6 64-bit",
   "metadata": {
    "interpreter": {
     "hash": "0600588c3b5f4418cbe7b5ebc6825b479f3bc010269d8b60d75058cdd010adfe"
    }
   }
  }
 },
 "nbformat": 4,
 "nbformat_minor": 2,
 "cells": [
  {
   "source": [
    "### EGOR ZAITSEV - 07 452 541\n",
    "\n",
    "### XIAOXU YAO - 07 498 897"
   ],
   "cell_type": "markdown",
   "metadata": {}
  },
  {
   "cell_type": "code",
   "execution_count": 1,
   "metadata": {},
   "outputs": [],
   "source": [
    "import numpy as np\n",
    "import pandas as pd\n",
    "import matplotlib.pyplot as plt\n",
    "\n",
    "from scipy.optimize import fmin"
   ]
  },
  {
   "source": [
    "### Exercise 1: Consumption Savings Problem\n",
    "\n",
    "Consider the following life-cycle Problem\n",
    "\n",
    "$$\\begin{aligned}&\\max_{\\{c_t\\}_{t=0}^{T}}\\sum_{t=0}^{T}\\beta^tu(c_t)\\\\\\text{s.t.}&u(c_t)=\\frac{c_t^{1-\\theta}-1}{1-\\theta}\\\\&c_t+a_{t+1}=a_t(1+r)+w_t\\\\&a_0\\text{ given and }a_{T+1}\\ge0\\end{aligned}$$"
   ],
   "cell_type": "markdown",
   "metadata": {}
  },
  {
   "source": [
    "### Characterize the analytical solution for any $\\beta,r,w_t$\n",
    "\n",
    "#### Euler equation\n",
    "Start off by writing out the objective up to the second element\n",
    "\n",
    "$$\\max_{\\{c_t\\}_{t=0}^{T}}u(c_0)+\\beta u(c_1)+\\dots$$\n",
    "\n",
    "At the optimum, for any two arbitrary periods it must hold that\n",
    "\n",
    "$$\\frac{\\partial u(\\cdot)}{\\partial c_0}=\\beta\\frac{\\partial u(\\cdot)}{\\partial c_1}\\frac{\\partial c_1}{\\partial c_0}$$\n",
    "\n",
    "Using the budget constraint we may find that $\\frac{\\partial c_1}{\\partial c_0}=1+r$ hence the Euler equation for period $t$ reads\n",
    "\n",
    "$$c_t^{-\\theta}=\\beta(1+r)c_{t+1}^{-\\theta}\\iff\\frac{c_{t+1}}{c_t}=[\\beta(1+r)]^{\\frac{1}{\\theta}}$$\n",
    "\n",
    "Hence, the consumption path is given by\n",
    "\n",
    "$$c_{t+1}=[\\beta(1+r)]^{\\frac{1}{\\theta}}c_t$$\n",
    "\n"
   ],
   "cell_type": "markdown",
   "metadata": {}
  },
  {
   "source": [
    "### Compute the numerical solutions setting $w_0=10, a_0=0$ and $w_t=0$ for $t\\ge1, \\beta=0.99,r=0.05$ and any $\\theta$"
   ],
   "cell_type": "markdown",
   "metadata": {}
  },
  {
   "cell_type": "code",
   "execution_count": null,
   "metadata": {},
   "outputs": [],
   "source": [
    "# PARAMETERS\n",
    "theta = 3\n",
    "beta = 0.99\n",
    "r = 0.05\n",
    "\n",
    "# LIFE LENGTH\n",
    "T = 10\n",
    "\n",
    "# ENDOWMENT\n",
    "w = [0.0] * T\n",
    "w[0] = 10.\n",
    "w = np.array(w)\n",
    "\n",
    "# SAVINGS\n",
    "a = [5] * (T-1)\n",
    "a = a + [0]\n",
    "a = np.array(a)"
   ]
  },
  {
   "cell_type": "code",
   "execution_count": 2,
   "metadata": {},
   "outputs": [],
   "source": [
    "def euler(beta, r, theta):\n",
    "    return (beta+beta*r)**(1/theta)"
   ]
  },
  {
   "cell_type": "code",
   "execution_count": 3,
   "metadata": {},
   "outputs": [],
   "source": [
    "def crra(c, theta, tol=1e-5):\n",
    "    \"\"\"\n",
    "    CRRA utility function (constant risk aversion).\n",
    "\n",
    "    Arguments:\n",
    "        c - consumption vector\n",
    "        theta - risk aversion parameter\n",
    "        tol - death tolerance\n",
    "\n",
    "    Returns:\n",
    "        function value\n",
    "    \"\"\"\n",
    "    if theta != 0:\n",
    "        if c < tol:\n",
    "            u = -tol**(-1)\n",
    "        else:\n",
    "            u = (c**(1-theta) - 1)/(1-theta)\n",
    "    else:\n",
    "        return 'theta cannot be zero'\n",
    "    \n",
    "    return u\n"
   ]
  },
  {
   "cell_type": "code",
   "execution_count": 4,
   "metadata": {},
   "outputs": [],
   "source": [
    "def budgetConstraint(a, w, r, T):\n",
    "    \"\"\"\n",
    "    Budget constraint solved for consumption.\n",
    "\n",
    "    Arguments:\n",
    "        a - savings vector\n",
    "        w - income vector\n",
    "        r - interest rate\n",
    "        T - agent's life length\n",
    "\n",
    "    Returns:\n",
    "        consumption vector assuming the constraint is binding\n",
    "    \"\"\"\n",
    "\n",
    "    c = [0] * (T)\n",
    "    c[0] = w[0] - a[0]\n",
    "    for t in range(1, T-1):\n",
    "        c[t] = w[t] + (1+r)*a[t-1] - a[t]\n",
    "    c[T-1] = w[T-1] + (1+r)*a[T-2]\n",
    "\n",
    "    return np.array(c)\n"
   ]
  },
  {
   "cell_type": "code",
   "execution_count": 5,
   "metadata": {},
   "outputs": [],
   "source": [
    "def bellman(a, w, r, T, budgetConstraint, u, theta, beta):\n",
    "    \"\"\"\n",
    "    Backward induction on the Bellman equation. Finite-horizon problems are solved via backwardation.\n",
    "\n",
    "    Arguments:\n",
    "        a - savings vector\n",
    "        w - income vector\n",
    "        r - interest rate\n",
    "        T - agent's life length\n",
    "        budgetConstraint - transform function\n",
    "        u - utility function\n",
    "        theta - relative risk aversion parameter\n",
    "        beta - time preference parameter\n",
    "    Returns:\n",
    "        function value\n",
    "    \"\"\"\n",
    "    c = budgetConstraint(a, w, r, T)\n",
    "    v = u(c[-1], theta)\n",
    "\n",
    "    for period in reversed(range(len(c) - 1)):\n",
    "        v = u(c[period], theta) + beta*v\n",
    "    \n",
    "    return -v # return negative Bellman because we use minimizers"
   ]
  },
  {
   "cell_type": "code",
   "execution_count": 49,
   "metadata": {},
   "outputs": [
    {
     "output_type": "stream",
     "name": "stdout",
     "text": [
      "Optimization terminated successfully.\n         Current function value: -1.650965\n         Iterations: 1417\n         Function evaluations: 2022\n"
     ]
    }
   ],
   "source": [
    "a1 = fmin(bellman, x0=a, args=(w, r, T, budgetConstraint, crra, theta, beta), maxiter=10e4)\n",
    "c1 = budgetConstraint(a1, w, r, T)"
   ]
  },
  {
   "cell_type": "code",
   "execution_count": 50,
   "metadata": {},
   "outputs": [
    {
     "output_type": "stream",
     "name": "stdout",
     "text": [
      "numerical solution for T=10 and theta=3\n      w  a0    a*    c*\n0  10.0   5  8.83  1.17\n1   0.0   5  8.09  1.18\n2   0.0   5  7.29  1.20\n3   0.0   5  6.44  1.22\n4   0.0   5  5.53  1.23\n5   0.0   5  4.56  1.25\n6   0.0   5  3.53  1.26\n7   0.0   5  2.43  1.28\n8   0.0   5  1.25  1.30\n9   0.0   0 -0.06  1.31\n"
     ]
    }
   ],
   "source": [
    "data = {'w': w, 'a0': a, 'a*': a1, 'c*': c1}\n",
    "df = pd.DataFrame(data)\n",
    "print('numerical solution for T=10 and theta=3\\n{}'.format(df.round(2)))"
   ]
  },
  {
   "source": [
    "To solve the Bellman equation we use simplex method (aka Nelder-Mead algorithm) which helps us minimize the objective without specifying neither first nor second derivative of the objective\n",
    "\n",
    "Note that the vectors $\\mathbf a_0$ and $\\mathbf a^*$ are shifted in time by one increment. Using such a structure for the budget constraint we impose $a_0=0$ and $a_{T+1}\\ge0$. We see that $a^*_{T+1}$ is slightly below zero which is a sign of truncation error of this numerical method"
   ],
   "cell_type": "markdown",
   "metadata": {}
  },
  {
   "cell_type": "code",
   "execution_count": null,
   "metadata": {},
   "outputs": [],
   "source": []
  }
 ]
}