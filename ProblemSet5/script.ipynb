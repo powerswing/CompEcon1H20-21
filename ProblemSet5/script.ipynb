{
 "metadata": {
  "language_info": {
   "codemirror_mode": {
    "name": "ipython",
    "version": 3
   },
   "file_extension": ".py",
   "mimetype": "text/x-python",
   "name": "python",
   "nbconvert_exporter": "python",
   "pygments_lexer": "ipython3",
   "version": "3.7.6-final"
  },
  "orig_nbformat": 2,
  "kernelspec": {
   "name": "python3",
   "display_name": "Python 3.7.6 64-bit",
   "metadata": {
    "interpreter": {
     "hash": "0600588c3b5f4418cbe7b5ebc6825b479f3bc010269d8b60d75058cdd010adfe"
    }
   }
  }
 },
 "nbformat": 4,
 "nbformat_minor": 2,
 "cells": [
  {
   "source": [
    "### EGOR ZAITSEV - 07 452 541\n",
    "\n",
    "### XIAOXU YAO - 07 498 897"
   ],
   "cell_type": "markdown",
   "metadata": {}
  },
  {
   "cell_type": "code",
   "execution_count": 94,
   "metadata": {},
   "outputs": [],
   "source": [
    "import numpy as np\n",
    "import pandas as pd\n",
    "import matplotlib.pyplot as plt\n",
    "\n",
    "from scipy.optimize import fmin, minimize"
   ]
  },
  {
   "source": [
    "## Exercise 1: Consumption Savings Problem\n",
    "\n",
    "Consider the following life-cycle Problem\n",
    "\n",
    "$$\\begin{aligned}&\\max_{\\{c_t\\}_{t=0}^{T}}\\sum_{t=0}^{T}\\beta^tu(c_t)\\\\\\text{s.t.}&u(c_t)=\\frac{c_t^{1-\\theta}-1}{1-\\theta}\\\\&c_t+a_{t+1}=a_t(1+r)+w_t\\\\&a_0\\text{ given and }a_{T+1}\\ge0\\end{aligned}$$"
   ],
   "cell_type": "markdown",
   "metadata": {}
  },
  {
   "source": [
    "### Characterize the analytical solution for any $\\beta,r,w_t$\n",
    "\n",
    "#### Euler equation\n",
    "Start off by writing out the objective up to the second element\n",
    "\n",
    "$$\\max_{\\{c_t\\}_{t=0}^{T}}u(c_0)+\\beta u(c_1)+\\dots$$\n",
    "\n",
    "At the optimum, for any two arbitrary periods it must hold that\n",
    "\n",
    "$$\\frac{\\partial u(\\cdot)}{\\partial c_0}=\\beta\\frac{\\partial u(\\cdot)}{\\partial c_1}\\frac{\\partial c_1}{\\partial c_0}$$\n",
    "\n",
    "Using the budget constraint we may find that $\\frac{\\partial c_1}{\\partial c_0}=1+r$ hence the Euler equation for period $t$ reads\n",
    "\n",
    "$$c_t^{-\\theta}=\\beta(1+r)c_{t+1}^{-\\theta}\\iff\\frac{c_{t+1}}{c_t}=[\\beta(1+r)]^{\\frac{1}{\\theta}}$$\n",
    "\n",
    "To express consumption explicitly we must solve the Bellman equation via backwardation\n",
    "\n",
    "$$\\nu_{T}(a_{T})=\\max_{a_{T+1}}\\biggr\\{\\frac{(w_T+(1+r)a_T-a_{T+1})^{1-\\theta}-1}{1-\\theta}+\\nu_{T+1}(a_{T+1})\\biggr\\}$$\n",
    "\n",
    "Which is obviously maximized if $a_{T+1}=0$ which leads us to $\\nu_T(a_T)=\\frac{(w_T+(1+r)a_T)^{1-\\theta}-1}{1-\\theta}$. Iterating backwards leads to an explicit form of the policy function $a_{T-t+1}(a_{T-t}$. Using this and the budget constraint we may solve for the consumption function $c_{t}$\n",
    "\n",
    "#### $\\beta$-dependence\n",
    "As $\\beta$ increases, the consumption path is skewed towards the early life which means the consumer consumes more income early. Equivalently, lower values of $\\beta$ imply lower consumption levels early in life and higher consumption levels later in life. $\\beta$ parameter is thus a time preference and a tradeoff between wealth allocation and wealth spending\n",
    "\n",
    "#### $r$-dependence\n",
    "Higher interest rates imply higher returns on capital. Sufficiently high interest rates make consumption path skew towards end life\n",
    "\n",
    "#### $w_t$-dependence\n",
    "Higher levels of income imply higher levels of consumption, and vice versa"
   ],
   "cell_type": "markdown",
   "metadata": {}
  },
  {
   "source": [
    "### Compute the numerical solutions setting $w_0=10, a_0=0$ and $w_t=0$ for $t\\ge1, \\beta=0.99,r=0.05$ and any $\\theta$"
   ],
   "cell_type": "markdown",
   "metadata": {}
  },
  {
   "cell_type": "code",
   "execution_count": 74,
   "metadata": {},
   "outputs": [],
   "source": [
    "# PARAMETERS\n",
    "theta = 3\n",
    "beta = 0.99\n",
    "r = 0.05\n",
    "\n",
    "# LIFE LENGTH\n",
    "T = 10\n",
    "\n",
    "# ENDOWMENT\n",
    "w = [0.0] * T\n",
    "w[0] = 10.\n",
    "w = np.array(w)\n",
    "\n",
    "# SAVINGS\n",
    "a = [5] * (T-1)\n",
    "a = a + [0]\n",
    "a = np.array(a)"
   ]
  },
  {
   "cell_type": "code",
   "execution_count": 69,
   "metadata": {},
   "outputs": [],
   "source": [
    "def crra(c, theta, tol=1e-5):\n",
    "    \"\"\"\n",
    "    CRRA utility function (constant risk aversion).\n",
    "\n",
    "    Arguments:\n",
    "        c - consumption vector\n",
    "        theta - risk aversion parameter\n",
    "        tol - death tolerance\n",
    "\n",
    "    Returns:\n",
    "        function value\n",
    "    \"\"\"\n",
    "    if theta != 0:\n",
    "        if c < tol:\n",
    "            u = -tol**(-1)\n",
    "        else:\n",
    "            u = (c**(1-theta) - 1)/(1-theta)\n",
    "    else:\n",
    "        return 'theta cannot be zero'\n",
    "    \n",
    "    return u\n"
   ]
  },
  {
   "cell_type": "code",
   "execution_count": 70,
   "metadata": {},
   "outputs": [],
   "source": [
    "def budgetConstraint(a, w, r, T):\n",
    "    \"\"\"\n",
    "    Budget constraint solved for consumption.\n",
    "\n",
    "    Arguments:\n",
    "        a - savings vector\n",
    "        w - income vector\n",
    "        r - interest rate\n",
    "        T - agent's life length\n",
    "\n",
    "    Returns:\n",
    "        consumption vector assuming the constraint is binding\n",
    "    \"\"\"\n",
    "\n",
    "    c = [0] * (T)\n",
    "    c[0] = w[0] - a[0]\n",
    "    for t in range(1, T-1):\n",
    "        c[t] = w[t] + (1+r)*a[t-1] - a[t]\n",
    "    c[T-1] = w[T-1] + (1+r)*a[T-2]\n",
    "\n",
    "    return np.array(c)\n"
   ]
  },
  {
   "cell_type": "code",
   "execution_count": 71,
   "metadata": {},
   "outputs": [],
   "source": [
    "def bellman(a, w, r, T, budgetConstraint, u, theta, beta):\n",
    "    \"\"\"\n",
    "    Backward induction on the Bellman equation. Finite-horizon problems are solved via backwardation.\n",
    "\n",
    "    Arguments:\n",
    "        a - savings vector\n",
    "        w - income vector\n",
    "        r - interest rate\n",
    "        T - agent's life length\n",
    "        budgetConstraint - transform function\n",
    "        u - utility function\n",
    "        theta - relative risk aversion parameter\n",
    "        beta - time preference parameter\n",
    "    Returns:\n",
    "        function value\n",
    "    \"\"\"\n",
    "    c = budgetConstraint(a, w, r, T)\n",
    "    v = u(c[-1], theta)\n",
    "\n",
    "    for period in reversed(range(len(c) - 1)):\n",
    "        v = u(c[period], theta) + beta*v\n",
    "    \n",
    "    return -v # return negative Bellman because we use minimizers"
   ]
  },
  {
   "cell_type": "code",
   "execution_count": 75,
   "metadata": {},
   "outputs": [
    {
     "output_type": "stream",
     "name": "stdout",
     "text": [
      "Optimization terminated successfully.\n         Current function value: -1.650965\n         Iterations: 1417\n         Function evaluations: 2022\n"
     ]
    }
   ],
   "source": [
    "a1 = fmin(bellman, x0=a, args=(w, r, T, budgetConstraint, crra, theta, beta), maxiter=10e4)\n",
    "c1 = budgetConstraint(a1, w, r, T)"
   ]
  },
  {
   "cell_type": "code",
   "execution_count": 76,
   "metadata": {},
   "outputs": [
    {
     "output_type": "stream",
     "name": "stdout",
     "text": [
      "numerical solution for T=10 and theta=3\n      w  a0    a*    c*\n0  10.0   5  8.83  1.17\n1   0.0   5  8.09  1.18\n2   0.0   5  7.29  1.20\n3   0.0   5  6.44  1.22\n4   0.0   5  5.53  1.23\n5   0.0   5  4.56  1.25\n6   0.0   5  3.53  1.26\n7   0.0   5  2.43  1.28\n8   0.0   5  1.25  1.30\n9   0.0   0 -0.06  1.31\n"
     ]
    }
   ],
   "source": [
    "data = {'w': w, 'a0': a, 'a*': a1, 'c*': c1}\n",
    "df = pd.DataFrame(data)\n",
    "print('numerical solution for T=10 and theta=3\\n{}'.format(df.round(2)))"
   ]
  },
  {
   "source": [
    "To solve the Bellman equation we use simplex method (aka Nelder-Mead algorithm) which helps us minimize the objective without specifying neither first nor second derivative of the objective\n",
    "\n",
    "Note that the vectors $\\mathbf a_0$ and $\\mathbf a^*$ are shifted in time by one increment. Using such a structure for the budget constraint we impose $a_0=0$ and $a_{T+1}\\ge0$. We see that $a^*_{T+1}$ is slightly below zero which is a sign of truncation error of this numerical method"
   ],
   "cell_type": "markdown",
   "metadata": {}
  },
  {
   "source": [
    "### How do you deal with the constraint $c_t>0$ for all $t$?"
   ],
   "cell_type": "markdown",
   "metadata": {}
  },
  {
   "source": [
    "We introduce 'death tolerance' which is a number slightly above zero ($10e-5$, to be precise). If the algorithm decides to choose a consumption level below the tolerance we 'penalize' it by assigning a very negative value to consumption utility ($10e5$, an inverse of death penalty). Hence, an algorithm never chooses consumption levels close to zero"
   ],
   "cell_type": "markdown",
   "metadata": {}
  },
  {
   "source": [
    "## Exercise 2: The Consumption-Savings Problem with Human Capital"
   ],
   "cell_type": "markdown",
   "metadata": {}
  },
  {
   "source": [
    "Consider a two period $t=\\{1,2\\}$ consumption-savings problem with human capital\n",
    "\n",
    " - $c_t,k_t,h_t$ are consumption, stock of physical and human capital\n",
    "\n",
    " - $i_k,i_h$ are investment in physical and human capital\n",
    "\n",
    " - $\\delta_k,\\delta_h\\in[0,1]$ are depreciation rates for physical and human capital\n",
    "\n",
    " - $k_2=(1-\\delta_k)k_1+i_k$ and $h_2=[(1-\\delta_h)h_1+i_h]^\\mu$\n",
    "\n",
    " - $k_2\\ge0$ is a borrowing constraint on physical capital\n",
    "\n",
    "- $i_h\\ge0$ is an irreversibiility constraint on human capital\n",
    "\n",
    "- $r_k,r_h$ are returns on physical and human capital\n",
    "\n",
    "- $\\gamma,\\beta,\\mu$ are risk aversion, discount factor and decreasing marginal returns to human capital investment\n",
    "\n",
    "where optimization problem is given by\n",
    "\n",
    "$$\\begin{aligned}&\\max_{c_1,c_2,i_k,i_h}\\biggr\\{\\frac{c_1^{1-\\gamma}-1}{1-\\gamma}+\\beta\\frac{c_2^{1-\\gamma}-1}{1-\\gamma}\\biggr\\}\\\\\\text{s.t.}&(1-\\delta_k)k_1+i_k\\ge0\\\\&i_h\\ge0\\\\&c_1+i_k+i_h-(r_kk_1+r_hh_1)=0\\\\&c_2-\\{(1+r_k)[(1-\\delta_k)k_1+i_k]+r_h[(1-\\delta_h)h_1+i_h]^\\mu\\}=0\\end{aligned}$$"
   ],
   "cell_type": "markdown",
   "metadata": {}
  },
  {
   "cell_type": "code",
   "execution_count": 97,
   "metadata": {},
   "outputs": [],
   "source": [
    "gamma, beta, rk, rh, mu, dk, dh = 2.0, 0.96, 0.1, 1.4, 0.8, 0.05, 0.05"
   ]
  },
  {
   "source": [
    "### Derive the Kuhn-Tucker conditions of this optimization problem"
   ],
   "cell_type": "markdown",
   "metadata": {}
  },
  {
   "source": [
    "Note first that\n",
    "\n",
    "$$\\begin{aligned}c_1&=r_kk_1+r_hh_1-i_k-i_h\\\\c_2&=(1+r_k)[(1-\\delta_k)k_1+i_k]-r_h[(1-\\delta_h)h_1+i_h]^\\mu\\end{aligned}$$\n",
    "\n",
    "and write out the Lagrangian $\\mathcal L(\\cdot)$\n",
    "\n",
    "$$\\mathcal L(\\cdot)=\\frac{c_1^{1-\\gamma}-1}{1-\\gamma}+\\beta\\frac{c_2^{1-\\gamma}-1}{1-\\gamma}+\\lambda_1[(1-\\delta_k)k_1+i_k]+\\lambda_2i_h\\to\\max_{\\circ}$$\n",
    "\n",
    "KKT conditions are then given by\n",
    "\n",
    "$$\\frac{\\partial \\mathcal L(\\cdot)}{\\partial c_t}=0$$\n",
    "\n",
    "$$i_h\\ge0$$\n",
    "\n",
    "$$(1-\\delta_k)k_1+i_k\\ge0$$\n",
    "\n",
    "$$\\lambda_1,\\lambda_2\\ge0$$\n",
    "\n",
    "$$\\lambda_1[(1-\\delta_k)k_1+i_k]=0$$\n",
    "\n",
    "$$\\lambda_2i_h=0$$\n",
    "\n",
    "$$t\\in\\{1,2\\}$$"
   ],
   "cell_type": "markdown",
   "metadata": {}
  },
  {
   "source": [
    "### Use routine of your choice to solve the above problem for the following initial endowments\n",
    "\n",
    "- $k_1=1,h_1=5$\n",
    "\n",
    "- $k_1=1,h_1=1$\n",
    "\n",
    "- $k_1=1,h_1=0.2$"
   ],
   "cell_type": "markdown",
   "metadata": {}
  },
  {
   "cell_type": "code",
   "execution_count": 197,
   "metadata": {},
   "outputs": [],
   "source": [
    "kh1 = [1, 5]\n",
    "kh2 = [1, 1]\n",
    "kh3 = [1, 0.2]"
   ]
  },
  {
   "cell_type": "code",
   "execution_count": 190,
   "metadata": {},
   "outputs": [],
   "source": [
    "def crra(c, gamma=gamma):\n",
    "    \"\"\"\n",
    "    CRRA utility function.\n",
    "\n",
    "    Arguments:\n",
    "        c - consumption input\n",
    "        gamma - risk aversion parameter\n",
    "\n",
    "    Returns:\n",
    "        function value\n",
    "    \"\"\"\n",
    "    if gamma != 0:\n",
    "        u = (c**(1-gamma) - 1)/(1-gamma)\n",
    "    else:\n",
    "        return 'theta cannot be zero'\n",
    "    \n",
    "    return (-1)*u\n"
   ]
  },
  {
   "cell_type": "code",
   "execution_count": 231,
   "metadata": {},
   "outputs": [],
   "source": [
    "def objective(kh, gamma=gamma, beta=beta, rk=rk, rh=rh):\n",
    "    \"\"\"\n",
    "    Objective function to maximize.\n",
    "\n",
    "    Arguments:\n",
    "        kh - physical and human input array\n",
    "        gamma - risk aversion parameter\n",
    "        beta - discount factor\n",
    "        rk, rh, ik, ih - self explanatory\n",
    "\n",
    "    Returns:\n",
    "        function value\n",
    "    \"\"\"\n",
    "    k1, h1, ik, ih = khi\n",
    "    \n",
    "    c1 = rk*k1 + rh*h1 - ik - ih # function of consumption in period 1\n",
    "    c2 = (1+rk)*((1-dk)*k1 + ik) - rh*((1-dh)*h1 + ih)**mu # function of consumption in period 2\n",
    "\n",
    "    return crra(c1) + beta*crra(c2)"
   ]
  },
  {
   "cell_type": "code",
   "execution_count": 236,
   "metadata": {},
   "outputs": [],
   "source": [
    "def c1(kh, rk=rk, rh=rh, ik=ik, ih=ih):\n",
    "    k1, h1, ik, ih = khi\n",
    "    return rk*k1 + rh*h1 - ik - ih\n",
    "\n",
    "def c2(khi, rk=rk, rh=rh, dk=dk, dh=dh, mu=mu, ik=ik, ih=ih):\n",
    "    k1, h1, ik, ih = khi\n",
    "    return (1+rk)*((1-dk)*k1 + ik) - rh*((1-dh)*h1 + ih)**mu"
   ]
  },
  {
   "cell_type": "code",
   "execution_count": 237,
   "metadata": {},
   "outputs": [],
   "source": [
    "def conik(kh):\n",
    "    k1, _, ik, _ = khi\n",
    "    \n",
    "    return (1-dk)*k1 + ik\n",
    "\n",
    "def conih(kh):\n",
    "    _, _, _, ih = khi\n",
    "\n",
    "    return ih\n"
   ]
  },
  {
   "cell_type": "code",
   "execution_count": 238,
   "metadata": {},
   "outputs": [],
   "source": [
    "con1 = {'type': 'eq', 'fun': c1}\n",
    "con2 = {'type': 'eq', 'fun': c2}\n",
    "con3 = {'type': 'ineq', 'fun': conik}\n",
    "con4 = {'type': 'ineq', 'fun': conih}\n",
    "cons = [con1, con2, con3, con4]\n",
    "\n",
    "sol = minimize(objective, khi, method='SLSQP', constraints=cons)"
   ]
  },
  {
   "cell_type": "code",
   "execution_count": 235,
   "metadata": {},
   "outputs": [
    {
     "output_type": "execute_result",
     "data": {
      "text/plain": [
       "     fun: -1.9595181751711066\n",
       "     jac: array([-1.49011612e-08, -2.68220901e-07,  2.08616257e-07,  2.08616257e-07])\n",
       " message: 'Optimization terminated successfully'\n",
       "    nfev: 188\n",
       "     nit: 33\n",
       "    njev: 33\n",
       "  status: 0\n",
       " success: True\n",
       "       x: array([17128.48390918, 16491.08368988,  7088.15165073, 15495.21476456])"
      ]
     },
     "metadata": {},
     "execution_count": 235
    }
   ],
   "source": [
    "sol"
   ]
  },
  {
   "cell_type": "code",
   "execution_count": null,
   "metadata": {},
   "outputs": [],
   "source": []
  }
 ]
}